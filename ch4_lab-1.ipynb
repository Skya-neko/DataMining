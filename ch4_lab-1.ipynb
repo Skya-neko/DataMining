{
  "nbformat": 4,
  "nbformat_minor": 0,
  "metadata": {
    "colab": {
      "name": "ch4_lab-1.ipynb",
      "provenance": []
    },
    "kernelspec": {
      "name": "python3",
      "display_name": "Python 3"
    },
    "language_info": {
      "name": "python"
    }
  },
  "cells": [
    {
      "cell_type": "code",
      "metadata": {
        "id": "6E41wLb6PlFw"
      },
      "source": [
        "import pandas as pd \n",
        "import numpy as np  \n",
        "import matplotlib.pyplot as plt  \n",
        "pima_df = pd.read_csv('pima.csv')"
      ],
      "execution_count": null,
      "outputs": []
    },
    {
      "cell_type": "code",
      "metadata": {
        "id": "Tgmn0tITP2ll"
      },
      "source": [
        "for i in ['serum_insulin', 'bmi', 'plasma_glucose_concentration', 'diastolic_blood_pressure', 'triceps_thickness']:\n",
        "  pima_df[i] = pima_df[i].replace([0],[None])"
      ],
      "execution_count": null,
      "outputs": []
    },
    {
      "cell_type": "code",
      "metadata": {
        "id": "S1FHd1BVP7Dh"
      },
      "source": [
        "pima_dropped = pima_df.dropna()"
      ],
      "execution_count": null,
      "outputs": []
    },
    {
      "cell_type": "code",
      "metadata": {
        "colab": {
          "base_uri": "https://localhost:8080/"
        },
        "id": "QFWpCPkOReKx",
        "outputId": "b82e53f7-b6bc-49d9-ce76-67fa8340d6bd"
      },
      "source": [
        "print(type(pima_df.shape[0]))# - pima_dropped.shape[0])"
      ],
      "execution_count": null,
      "outputs": [
        {
          "output_type": "stream",
          "text": [
            "<class 'int'>\n"
          ],
          "name": "stdout"
        }
      ]
    },
    {
      "cell_type": "code",
      "metadata": {
        "colab": {
          "base_uri": "https://localhost:8080/"
        },
        "id": "Ak_Hv5GAQBX6",
        "outputId": "1be83163-550c-4128-d659-35bbbce1e56f"
      },
      "source": [
        "#lab1-1\n",
        "num_rows_lost = pima_df.shape[0] - pima_dropped.shape[0]\n",
        "percent_rows_lost = round(100*(num_rows_lost/pima_df.shape[0]))\n",
        "print('刪除了{}筆資料，共佔原資料集資料數的{}%'.format(num_rows_lost, percent_rows_lost))"
      ],
      "execution_count": null,
      "outputs": [
        {
          "output_type": "stream",
          "text": [
            "刪除了376筆資料，共佔原資料集資料數的49%\n"
          ],
          "name": "stdout"
        }
      ]
    },
    {
      "cell_type": "code",
      "metadata": {
        "colab": {
          "base_uri": "https://localhost:8080/"
        },
        "id": "USEWet6rcROf",
        "outputId": "c1d1935d-6a69-4cf0-c6bc-4304c8aaae29"
      },
      "source": [
        "change = (pima_dropped.mean() - pima_df.mean()) / pima_df.mean() #矩陣運算\n",
        "change"
      ],
      "execution_count": null,
      "outputs": [
        {
          "output_type": "execute_result",
          "data": {
            "text/plain": [
              "times_pregnant                 -0.141489\n",
              "plasma_glucose_concentration    0.007731\n",
              "diastolic_blood_pressure       -0.024058\n",
              "triceps_thickness              -0.000275\n",
              "serum_insulin                   0.003265\n",
              "bmi                             0.019372\n",
              "pedigree_function               0.108439\n",
              "age                            -0.071481\n",
              "onset_diabetes                 -0.049650\n",
              "dtype: float64"
            ]
          },
          "metadata": {
            "tags": []
          },
          "execution_count": 28
        }
      ]
    },
    {
      "cell_type": "code",
      "metadata": {
        "colab": {
          "base_uri": "https://localhost:8080/",
          "height": 863
        },
        "id": "MWDjm146cD5T",
        "outputId": "89ca8339-1b44-43eb-c512-d23062b8509d"
      },
      "source": [
        "#lab1-2\n",
        "plt.figure(figsize = (10,15))\n",
        "plt.bar(change.index, change)\n",
        "plt.show()"
      ],
      "execution_count": null,
      "outputs": [
        {
          "output_type": "display_data",
          "data": {
            "image/png": "[encoded data removed]",
            "text/plain": [
              "<Figure size 720x1080 with 1 Axes>"
            ]
          },
          "metadata": {
            "tags": [],
            "needs_background": "light"
          }
        }
      ]
    }
  ]
}