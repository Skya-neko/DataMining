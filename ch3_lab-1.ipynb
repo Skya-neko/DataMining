{
  "nbformat": 4,
  "nbformat_minor": 0,
  "metadata": {
    "colab": {
      "name": "ch3_lab-1.ipynb",
      "provenance": [],
      "collapsed_sections": []
    },
    "kernelspec": {
      "name": "python3",
      "display_name": "Python 3"
    },
    "language_info": {
      "name": "python"
    },
    "accelerator": "GPU"
  },
  "cells": [
    {
      "cell_type": "code",
      "metadata": {
        "colab": {
          "base_uri": "https://localhost:8080/",
          "height": 141
        },
        "id": "h3ZYXSxBKZDU",
        "outputId": "aca31b17-ed2b-45e6-9dd6-920d48d5da05"
      },
      "source": [
        "import pandas as pd\n",
        "spending_df = pd.read_csv('spending_df.csv',index_col=0)\n",
        "spending_df"
      ],
      "execution_count": null,
      "outputs": [
        {
          "output_type": "execute_result",
          "data": {
            "text/html": [
              "<div>\n",
              "<style scoped>\n",
              "    .dataframe tbody tr th:only-of-type {\n",
              "        vertical-align: middle;\n",
              "    }\n",
              "\n",
              "    .dataframe tbody tr th {\n",
              "        vertical-align: top;\n",
              "    }\n",
              "\n",
              "    .dataframe thead th {\n",
              "        text-align: right;\n",
              "    }\n",
              "</style>\n",
              "<table border=\"1\" class=\"dataframe\">\n",
              "  <thead>\n",
              "    <tr style=\"text-align: right;\">\n",
              "      <th></th>\n",
              "      <th>110年生活費</th>\n",
              "      <th>110年娛樂費</th>\n",
              "      <th>110年交通費</th>\n",
              "      <th>110年住宿費</th>\n",
              "    </tr>\n",
              "  </thead>\n",
              "  <tbody>\n",
              "    <tr>\n",
              "      <th>一月</th>\n",
              "      <td>8000</td>\n",
              "      <td>3000</td>\n",
              "      <td>1000</td>\n",
              "      <td>8000</td>\n",
              "    </tr>\n",
              "    <tr>\n",
              "      <th>二月</th>\n",
              "      <td>7000</td>\n",
              "      <td>5000</td>\n",
              "      <td>1200</td>\n",
              "      <td>8000</td>\n",
              "    </tr>\n",
              "    <tr>\n",
              "      <th>三月</th>\n",
              "      <td>7500</td>\n",
              "      <td>4000</td>\n",
              "      <td>1200</td>\n",
              "      <td>8000</td>\n",
              "    </tr>\n",
              "  </tbody>\n",
              "</table>\n",
              "</div>"
            ],
            "text/plain": [
              "    110年生活費  110年娛樂費  110年交通費  110年住宿費\n",
              "一月     8000     3000     1000     8000\n",
              "二月     7000     5000     1200     8000\n",
              "三月     7500     4000     1200     8000"
            ]
          },
          "metadata": {
            "tags": []
          },
          "execution_count": 3
        }
      ]
    },
    {
      "cell_type": "code",
      "metadata": {
        "colab": {
          "base_uri": "https://localhost:8080/",
          "height": 141
        },
        "id": "W1q6Dlsc1Y9-",
        "outputId": "7b690ea4-2696-4625-f53c-9c6bfffc6589"
      },
      "source": [
        "# lab1-1\n",
        "earning_df = pd.DataFrame({\n",
        "        '110年薪資收入':[21000, 21000, 22000],\n",
        "        '110年股票收入':[1000, 0 ,200]\n",
        "        })\n",
        "earning_df\n",
        "      "
      ],
      "execution_count": null,
      "outputs": [
        {
          "output_type": "execute_result",
          "data": {
            "text/html": [
              "<div>\n",
              "<style scoped>\n",
              "    .dataframe tbody tr th:only-of-type {\n",
              "        vertical-align: middle;\n",
              "    }\n",
              "\n",
              "    .dataframe tbody tr th {\n",
              "        vertical-align: top;\n",
              "    }\n",
              "\n",
              "    .dataframe thead th {\n",
              "        text-align: right;\n",
              "    }\n",
              "</style>\n",
              "<table border=\"1\" class=\"dataframe\">\n",
              "  <thead>\n",
              "    <tr style=\"text-align: right;\">\n",
              "      <th></th>\n",
              "      <th>110年薪資收入</th>\n",
              "      <th>110年股票收入</th>\n",
              "    </tr>\n",
              "  </thead>\n",
              "  <tbody>\n",
              "    <tr>\n",
              "      <th>0</th>\n",
              "      <td>21000</td>\n",
              "      <td>1000</td>\n",
              "    </tr>\n",
              "    <tr>\n",
              "      <th>1</th>\n",
              "      <td>21000</td>\n",
              "      <td>0</td>\n",
              "    </tr>\n",
              "    <tr>\n",
              "      <th>2</th>\n",
              "      <td>22000</td>\n",
              "      <td>200</td>\n",
              "    </tr>\n",
              "  </tbody>\n",
              "</table>\n",
              "</div>"
            ],
            "text/plain": [
              "   110年薪資收入  110年股票收入\n",
              "0     21000      1000\n",
              "1     21000         0\n",
              "2     22000       200"
            ]
          },
          "metadata": {
            "tags": []
          },
          "execution_count": 4
        }
      ]
    },
    {
      "cell_type": "code",
      "metadata": {
        "colab": {
          "base_uri": "https://localhost:8080/",
          "height": 141
        },
        "id": "ffO-SerDKga0",
        "outputId": "0ad86826-a006-414b-c2bb-4b05ae57fb15"
      },
      "source": [
        "# lab1-1\n",
        "rename_index = {0:'一月',1:'二月',2:'三月'}\n",
        "earning_df = earning_df.rename(rename_index, axis=0)\n",
        "earning_df"
      ],
      "execution_count": null,
      "outputs": [
        {
          "output_type": "execute_result",
          "data": {
            "text/html": [
              "<div>\n",
              "<style scoped>\n",
              "    .dataframe tbody tr th:only-of-type {\n",
              "        vertical-align: middle;\n",
              "    }\n",
              "\n",
              "    .dataframe tbody tr th {\n",
              "        vertical-align: top;\n",
              "    }\n",
              "\n",
              "    .dataframe thead th {\n",
              "        text-align: right;\n",
              "    }\n",
              "</style>\n",
              "<table border=\"1\" class=\"dataframe\">\n",
              "  <thead>\n",
              "    <tr style=\"text-align: right;\">\n",
              "      <th></th>\n",
              "      <th>110年薪資收入</th>\n",
              "      <th>110年股票收入</th>\n",
              "    </tr>\n",
              "  </thead>\n",
              "  <tbody>\n",
              "    <tr>\n",
              "      <th>一月</th>\n",
              "      <td>21000</td>\n",
              "      <td>1000</td>\n",
              "    </tr>\n",
              "    <tr>\n",
              "      <th>二月</th>\n",
              "      <td>21000</td>\n",
              "      <td>0</td>\n",
              "    </tr>\n",
              "    <tr>\n",
              "      <th>三月</th>\n",
              "      <td>22000</td>\n",
              "      <td>200</td>\n",
              "    </tr>\n",
              "  </tbody>\n",
              "</table>\n",
              "</div>"
            ],
            "text/plain": [
              "    110年薪資收入  110年股票收入\n",
              "一月     21000      1000\n",
              "二月     21000         0\n",
              "三月     22000       200"
            ]
          },
          "metadata": {
            "tags": []
          },
          "execution_count": 5
        }
      ]
    },
    {
      "cell_type": "code",
      "metadata": {
        "colab": {
          "base_uri": "https://localhost:8080/",
          "height": 141
        },
        "id": "XKE6Rsn5Kpsm",
        "outputId": "6e49d869-6e0a-4521-d296-b32b10ffdbb7"
      },
      "source": [
        "# lab1-1\n",
        "property_df = pd.concat([spending_df,earning_df],axis=1)\n",
        "property_df"
      ],
      "execution_count": null,
      "outputs": [
        {
          "output_type": "execute_result",
          "data": {
            "text/html": [
              "<div>\n",
              "<style scoped>\n",
              "    .dataframe tbody tr th:only-of-type {\n",
              "        vertical-align: middle;\n",
              "    }\n",
              "\n",
              "    .dataframe tbody tr th {\n",
              "        vertical-align: top;\n",
              "    }\n",
              "\n",
              "    .dataframe thead th {\n",
              "        text-align: right;\n",
              "    }\n",
              "</style>\n",
              "<table border=\"1\" class=\"dataframe\">\n",
              "  <thead>\n",
              "    <tr style=\"text-align: right;\">\n",
              "      <th></th>\n",
              "      <th>110年生活費</th>\n",
              "      <th>110年娛樂費</th>\n",
              "      <th>110年交通費</th>\n",
              "      <th>110年住宿費</th>\n",
              "      <th>110年薪資收入</th>\n",
              "      <th>110年股票收入</th>\n",
              "    </tr>\n",
              "  </thead>\n",
              "  <tbody>\n",
              "    <tr>\n",
              "      <th>一月</th>\n",
              "      <td>8000</td>\n",
              "      <td>3000</td>\n",
              "      <td>1000</td>\n",
              "      <td>8000</td>\n",
              "      <td>21000</td>\n",
              "      <td>1000</td>\n",
              "    </tr>\n",
              "    <tr>\n",
              "      <th>二月</th>\n",
              "      <td>7000</td>\n",
              "      <td>5000</td>\n",
              "      <td>1200</td>\n",
              "      <td>8000</td>\n",
              "      <td>21000</td>\n",
              "      <td>0</td>\n",
              "    </tr>\n",
              "    <tr>\n",
              "      <th>三月</th>\n",
              "      <td>7500</td>\n",
              "      <td>4000</td>\n",
              "      <td>1200</td>\n",
              "      <td>8000</td>\n",
              "      <td>22000</td>\n",
              "      <td>200</td>\n",
              "    </tr>\n",
              "  </tbody>\n",
              "</table>\n",
              "</div>"
            ],
            "text/plain": [
              "    110年生活費  110年娛樂費  110年交通費  110年住宿費  110年薪資收入  110年股票收入\n",
              "一月     8000     3000     1000     8000     21000      1000\n",
              "二月     7000     5000     1200     8000     21000         0\n",
              "三月     7500     4000     1200     8000     22000       200"
            ]
          },
          "metadata": {
            "tags": []
          },
          "execution_count": 6
        }
      ]
    },
    {
      "cell_type": "code",
      "metadata": {
        "colab": {
          "base_uri": "https://localhost:8080/",
          "height": 141
        },
        "id": "qGGRdhZu2B0m",
        "outputId": "d32f118d-849d-43d6-c937-d20f92360fd7"
      },
      "source": [
        "# lab1-2\n",
        "spending_df[(spending_df['110年娛樂費']>=4000)|(spending_df['110年交通費']<1200)]"
      ],
      "execution_count": null,
      "outputs": [
        {
          "output_type": "execute_result",
          "data": {
            "text/html": [
              "<div>\n",
              "<style scoped>\n",
              "    .dataframe tbody tr th:only-of-type {\n",
              "        vertical-align: middle;\n",
              "    }\n",
              "\n",
              "    .dataframe tbody tr th {\n",
              "        vertical-align: top;\n",
              "    }\n",
              "\n",
              "    .dataframe thead th {\n",
              "        text-align: right;\n",
              "    }\n",
              "</style>\n",
              "<table border=\"1\" class=\"dataframe\">\n",
              "  <thead>\n",
              "    <tr style=\"text-align: right;\">\n",
              "      <th></th>\n",
              "      <th>110年生活費</th>\n",
              "      <th>110年娛樂費</th>\n",
              "      <th>110年交通費</th>\n",
              "      <th>110年住宿費</th>\n",
              "    </tr>\n",
              "  </thead>\n",
              "  <tbody>\n",
              "    <tr>\n",
              "      <th>一月</th>\n",
              "      <td>8000</td>\n",
              "      <td>3000</td>\n",
              "      <td>1000</td>\n",
              "      <td>8000</td>\n",
              "    </tr>\n",
              "    <tr>\n",
              "      <th>二月</th>\n",
              "      <td>7000</td>\n",
              "      <td>5000</td>\n",
              "      <td>1200</td>\n",
              "      <td>8000</td>\n",
              "    </tr>\n",
              "    <tr>\n",
              "      <th>三月</th>\n",
              "      <td>7500</td>\n",
              "      <td>4000</td>\n",
              "      <td>1200</td>\n",
              "      <td>8000</td>\n",
              "    </tr>\n",
              "  </tbody>\n",
              "</table>\n",
              "</div>"
            ],
            "text/plain": [
              "    110年生活費  110年娛樂費  110年交通費  110年住宿費\n",
              "一月     8000     3000     1000     8000\n",
              "二月     7000     5000     1200     8000\n",
              "三月     7500     4000     1200     8000"
            ]
          },
          "metadata": {
            "tags": []
          },
          "execution_count": 12
        }
      ]
    },
    {
      "cell_type": "code",
      "metadata": {
        "colab": {
          "base_uri": "https://localhost:8080/"
        },
        "id": "bjDhxMC93Iw4",
        "outputId": "bb548759-2394-4023-cd9f-fdd80f7942ff"
      },
      "source": [
        "# lab1-3\n",
        "spending_df['110年生活費']['二月']"
      ],
      "execution_count": null,
      "outputs": [
        {
          "output_type": "execute_result",
          "data": {
            "text/plain": [
              "7000"
            ]
          },
          "metadata": {
            "tags": []
          },
          "execution_count": 13
        }
      ]
    },
    {
      "cell_type": "code",
      "metadata": {
        "colab": {
          "base_uri": "https://localhost:8080/"
        },
        "id": "-pFJNHfN3dtd",
        "outputId": "734c869f-c42f-48f0-b01b-a42b42a79875"
      },
      "source": [
        "# lab1-4\n",
        "spending_df.loc['三月']"
      ],
      "execution_count": null,
      "outputs": [
        {
          "output_type": "execute_result",
          "data": {
            "text/plain": [
              "110年生活費    7500\n",
              "110年娛樂費    4000\n",
              "110年交通費    1200\n",
              "110年住宿費    8000\n",
              "Name: 三月, dtype: int64"
            ]
          },
          "metadata": {
            "tags": []
          },
          "execution_count": 14
        }
      ]
    },
    {
      "cell_type": "code",
      "metadata": {
        "id": "DT9U6FLniEPg",
        "colab": {
          "base_uri": "https://localhost:8080/"
        },
        "outputId": "52d33b6c-cc56-4637-ccc8-171d0ca26ac8"
      },
      "source": [
        "# lab1-5\n",
        "spending_df['110年娛樂費'].max()"
      ],
      "execution_count": null,
      "outputs": [
        {
          "output_type": "execute_result",
          "data": {
            "text/plain": [
              "5000"
            ]
          },
          "metadata": {
            "tags": []
          },
          "execution_count": 7
        }
      ]
    }
  ]
}