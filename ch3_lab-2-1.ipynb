{
  "nbformat": 4,
  "nbformat_minor": 0,
  "metadata": {
    "colab": {
      "name": "ch3_lab2-1.ipynb",
      "provenance": [],
      "collapsed_sections": []
    },
    "kernelspec": {
      "name": "python3",
      "display_name": "Python 3"
    },
    "language_info": {
      "name": "python"
    }
  },
  "cells": [
    {
      "cell_type": "code",
      "metadata": {
        "id": "4FAnwmaOy5C5"
      },
      "source": [
        "import pandas as pd         \n",
        "import numpy as np         \n",
        "import matplotlib.pyplot as plt\n",
        "\n",
        "# 使用pandas讀檔\n",
        "company = pd.read_csv('/content/company_revenue-ver2.csv')\n",
        "\n",
        "# 檢視前幾列和標頭\n",
        "company.head()"
      ],
      "execution_count": null,
      "outputs": []
    },
    {
      "cell_type": "code",
      "metadata": {
        "id": "6XJ_-4uffeNp"
      },
      "source": [
        "# 看看資料有多少列，是否有遺漏值，以及每一行的資料類型\n",
        "company.info() #可以看到資料有954筆(列)，且有14個屬性(欄)\n",
        "# 顯示描述性統計\n",
        "company.describe()"
      ],
      "execution_count": null,
      "outputs": []
    },
    {
      "cell_type": "code",
      "metadata": {
        "id": "5itJXWofY4n-"
      },
      "source": [
        "'''使用Pandas的map功能，將函數映射到整個資料集：'''\n",
        "# 為了使用describe函數在company ['營業收入-當月營收']，需要刪除錢符號、逗點、空格、-號\n",
        "company ['營業收入-當月營收'] = company ['營業收入-當月營收'].map(lambda value: value.replace('$',''))\n",
        "company ['營業收入-當月營收'] = company ['營業收入-當月營收'].map(lambda value: value.replace(',',''))\n",
        "company ['營業收入-當月營收'] = company ['營業收入-當月營收'].map(lambda value: value.replace(' ',''))\n",
        "company ['營業收入-當月營收'] = company ['營業收入-當月營收'].map(lambda value: value.replace('-','0'))\n",
        "\n",
        "# 檢查是否已刪除乾淨\n",
        "company.head()   "
      ],
      "execution_count": null,
      "outputs": []
    },
    {
      "cell_type": "code",
      "metadata": {
        "id": "izUdA258ajo3"
      },
      "source": [
        "company.info() #營業收入-當月營收的Dtype仍舊是object，我們需要將它轉換成numeric的型態才可以使用描述性統計函式describe()"
      ],
      "execution_count": null,
      "outputs": []
    },
    {
      "cell_type": "code",
      "metadata": {
        "id": "VuwvuZ2HjDoz"
      },
      "source": [
        "company ['營業收入-當月營收'] = company['營業收入-當月營收'].astype('float')\n",
        "company.info()\n",
        "company.describe()"
      ],
      "execution_count": null,
      "outputs": []
    }
  ]
}