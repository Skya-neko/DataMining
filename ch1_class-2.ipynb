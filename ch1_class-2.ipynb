{
  "nbformat": 4,
  "nbformat_minor": 0,
  "metadata": {
    "colab": {
      "name": "ch1_class-2.ipynb",
      "provenance": []
    },
    "kernelspec": {
      "name": "python3",
      "display_name": "Python 3"
    },
    "language_info": {
      "name": "python"
    }
  },
  "cells": [
    {
      "cell_type": "code",
      "metadata": {
        "colab": {
          "base_uri": "https://localhost:8080/"
        },
        "id": "ytQHuRRt9lcT",
        "outputId": "853d3f5b-250f-43e3-9c24-c1a28ddee8d9"
      },
      "source": [
        "a = '1'\n",
        "b = \"2\"\n",
        "c = a + b\n",
        "print(c)\n",
        "print(type(c))"
      ],
      "execution_count": 7,
      "outputs": [
        {
          "output_type": "stream",
          "text": [
            "12\n",
            "<class 'str'>\n"
          ],
          "name": "stdout"
        }
      ]
    },
    {
      "cell_type": "code",
      "metadata": {
        "colab": {
          "base_uri": "https://localhost:8080/"
        },
        "id": "TuGGN9t5_rV_",
        "outputId": "ec6f6dd2-11ed-410a-af5f-6126a4e11c78"
      },
      "source": [
        "a = '1'\n",
        "b = \"2\"\n",
        "c = a + b\n",
        "print(c)\n",
        "print(type(c))\n",
        "\n",
        "a = int(a)\n",
        "b = int(b)\n",
        "c = a+b\n",
        "print(c)\n",
        "print(type(c))"
      ],
      "execution_count": 8,
      "outputs": [
        {
          "output_type": "stream",
          "text": [
            "12\n",
            "<class 'str'>\n",
            "3\n",
            "<class 'int'>\n"
          ],
          "name": "stdout"
        }
      ]
    },
    {
      "cell_type": "code",
      "metadata": {
        "colab": {
          "base_uri": "https://localhost:8080/"
        },
        "id": "lBP7tsT-_ejo",
        "outputId": "210514a0-f232-4333-cf5d-a466f4ce2631"
      },
      "source": [
        "print(4*(2+3))\n",
        "print(2**10)\n",
        "print(64//7)\n",
        "print(64%7)"
      ],
      "execution_count": 6,
      "outputs": [
        {
          "output_type": "stream",
          "text": [
            "20\n",
            "1024\n",
            "9\n",
            "1\n"
          ],
          "name": "stdout"
        }
      ]
    },
    {
      "cell_type": "code",
      "metadata": {
        "colab": {
          "base_uri": "https://localhost:8080/"
        },
        "id": "NVbyAose-A0E",
        "outputId": "8e54052d-ca58-4633-d85d-e512f75e8b0c"
      },
      "source": [
        "a = 'apple'\n",
        "print('an', a , 'a day keeps the doctor away')"
      ],
      "execution_count": 2,
      "outputs": [
        {
          "output_type": "stream",
          "text": [
            "an apple a day keeps the doctor away\n"
          ],
          "name": "stdout"
        }
      ]
    },
    {
      "cell_type": "code",
      "metadata": {
        "colab": {
          "base_uri": "https://localhost:8080/"
        },
        "id": "KXrcUK59-1hh",
        "outputId": "866b407d-86f8-498b-c58f-f5d1a3f0f125"
      },
      "source": [
        "a = 'apple'\n",
        "print('an'+ a + 'a day keeps the doctor away')"
      ],
      "execution_count": 3,
      "outputs": [
        {
          "output_type": "stream",
          "text": [
            "anapplea day keeps the doctor away\n"
          ],
          "name": "stdout"
        }
      ]
    },
    {
      "cell_type": "code",
      "metadata": {
        "colab": {
          "base_uri": "https://localhost:8080/"
        },
        "id": "2hrQkmFc-3Co",
        "outputId": "b74f65ab-4c70-4fbf-b832-aae02c898c0b"
      },
      "source": [
        "b = 10\n",
        "print( b , 'apples a day keeps the doctor away')"
      ],
      "execution_count": 4,
      "outputs": [
        {
          "output_type": "stream",
          "text": [
            "10 apples a day keeps the doctor away\n"
          ],
          "name": "stdout"
        }
      ]
    },
    {
      "cell_type": "code",
      "metadata": {
        "colab": {
          "base_uri": "https://localhost:8080/",
          "height": 185
        },
        "id": "w0jcLXJo-4hI",
        "outputId": "aa992bf6-7406-4048-9b3a-43a4018255cd"
      },
      "source": [
        "b = 10\n",
        "print( b + 'apples a day keeps the doctor away')"
      ],
      "execution_count": 5,
      "outputs": [
        {
          "output_type": "error",
          "ename": "TypeError",
          "evalue": "ignored",
          "traceback": [
            "\u001b[0;31m---------------------------------------------------------------------------\u001b[0m",
            "\u001b[0;31mTypeError\u001b[0m                                 Traceback (most recent call last)",
            "\u001b[0;32m<ipython-input-5-2e7770e65360>\u001b[0m in \u001b[0;36m<module>\u001b[0;34m()\u001b[0m\n\u001b[1;32m      1\u001b[0m \u001b[0mb\u001b[0m \u001b[0;34m=\u001b[0m \u001b[0;36m10\u001b[0m\u001b[0;34m\u001b[0m\u001b[0;34m\u001b[0m\u001b[0m\n\u001b[0;32m----> 2\u001b[0;31m \u001b[0mprint\u001b[0m\u001b[0;34m(\u001b[0m \u001b[0mb\u001b[0m \u001b[0;34m+\u001b[0m \u001b[0;34m'apples a day keeps the doctor away'\u001b[0m\u001b[0;34m)\u001b[0m\u001b[0;34m\u001b[0m\u001b[0;34m\u001b[0m\u001b[0m\n\u001b[0m",
            "\u001b[0;31mTypeError\u001b[0m: unsupported operand type(s) for +: 'int' and 'str'"
          ]
        }
      ]
    },
    {
      "cell_type": "code",
      "metadata": {
        "colab": {
          "base_uri": "https://localhost:8080/"
        },
        "id": "oU98NuQG_8ml",
        "outputId": "0b5e618f-b762-4d66-9bd1-a4f19c708bf9"
      },
      "source": [
        "# Python格式化的兩種方式\n",
        "person = 'Marry'\n",
        "year = 20\n",
        "height = 168.2\n",
        "print('{} is {} years old, she is {}cm tall '.format(person, year, height))  #新式\n",
        "print('%s is %d years old, she is %fcm tall' % (person, year, height))       #舊式\n"
      ],
      "execution_count": 9,
      "outputs": [
        {
          "output_type": "stream",
          "text": [
            "Marry is 20 years old, she is 168.2cm tall \n",
            "Marry is 20 years old, she is 168.200000cm tall\n"
          ],
          "name": "stdout"
        }
      ]
    }
  ]
}