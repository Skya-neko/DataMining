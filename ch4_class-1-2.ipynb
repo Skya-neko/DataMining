{
  "nbformat": 4,
  "nbformat_minor": 0,
  "metadata": {
    "colab": {
      "name": "CH4_class-1-2.ipynb",
      "provenance": []
    },
    "kernelspec": {
      "name": "python3",
      "display_name": "Python 3"
    },
    "language_info": {
      "name": "python"
    }
  },
  "cells": [
    {
      "cell_type": "code",
      "metadata": {
        "id": "Ze4wVjluHAuj"
      },
      "source": [
        "import pandas as pd \n",
        "import numpy as np  \n",
        "import matplotlib.pyplot as plt  \n",
        "pima_df = pd.read_csv('pima.csv')"
      ],
      "execution_count": 1,
      "outputs": []
    },
    {
      "cell_type": "code",
      "metadata": {
        "id": "B5QDnVb_HNU9"
      },
      "source": [
        "'''\n",
        "pima_column_names = ['times_pregnant', 'plasma_glucose_concentration', 'diastolic_blood_pressure', 'triceps_thickness', 'serum_insulin', 'bmi', 'pedigree_function', 'age', 'onset_diabetes']\n",
        "pima_column_names = ['懷孕次數', '口服葡萄糖耐量試驗中的2小時血漿葡萄糖濃度', '舒張壓', '三頭肌皮脂厚度', '2小時血清胰島素濃度', 'bmi', '糖尿病家族函數', 'age', '類別變數(0或1，代表有無或有糖尿病']\n",
        "'''"
      ],
      "execution_count": null,
      "outputs": []
    },
    {
      "cell_type": "code",
      "metadata": {
        "colab": {
          "base_uri": "https://localhost:8080/"
        },
        "id": "YZg5heh9HTXP",
        "outputId": "4067f075-f655-40f2-fd33-9f492e769e34"
      },
      "source": [
        "pima_df.isnull().sum()"
      ],
      "execution_count": 3,
      "outputs": [
        {
          "output_type": "execute_result",
          "data": {
            "text/plain": [
              "Unnamed: 0                      0\n",
              "times_pregnant                  0\n",
              "plasma_glucose_concentration    0\n",
              "diastolic_blood_pressure        0\n",
              "triceps_thickness               0\n",
              "serum_insulin                   0\n",
              "bmi                             0\n",
              "pedigree_function               0\n",
              "age                             0\n",
              "onset_diabetes                  0\n",
              "dtype: int64"
            ]
          },
          "metadata": {
            "tags": []
          },
          "execution_count": 3
        }
      ]
    },
    {
      "cell_type": "code",
      "metadata": {
        "colab": {
          "base_uri": "https://localhost:8080/",
          "height": 294
        },
        "id": "z5BBnOGOHeR2",
        "outputId": "16608018-5fc4-48cb-f24a-88608257be62"
      },
      "source": [
        "pima_df.describe()"
      ],
      "execution_count": 4,
      "outputs": [
        {
          "output_type": "execute_result",
          "data": {
            "text/html": [
              "<div>\n",
              "<style scoped>\n",
              "    .dataframe tbody tr th:only-of-type {\n",
              "        vertical-align: middle;\n",
              "    }\n",
              "\n",
              "    .dataframe tbody tr th {\n",
              "        vertical-align: top;\n",
              "    }\n",
              "\n",
              "    .dataframe thead th {\n",
              "        text-align: right;\n",
              "    }\n",
              "</style>\n",
              "<table border=\"1\" class=\"dataframe\">\n",
              "  <thead>\n",
              "    <tr style=\"text-align: right;\">\n",
              "      <th></th>\n",
              "      <th>Unnamed: 0</th>\n",
              "      <th>times_pregnant</th>\n",
              "      <th>plasma_glucose_concentration</th>\n",
              "      <th>diastolic_blood_pressure</th>\n",
              "      <th>triceps_thickness</th>\n",
              "      <th>serum_insulin</th>\n",
              "      <th>bmi</th>\n",
              "      <th>pedigree_function</th>\n",
              "      <th>age</th>\n",
              "      <th>onset_diabetes</th>\n",
              "    </tr>\n",
              "  </thead>\n",
              "  <tbody>\n",
              "    <tr>\n",
              "      <th>count</th>\n",
              "      <td>768.000000</td>\n",
              "      <td>768.000000</td>\n",
              "      <td>768.000000</td>\n",
              "      <td>768.000000</td>\n",
              "      <td>768.000000</td>\n",
              "      <td>768.000000</td>\n",
              "      <td>768.000000</td>\n",
              "      <td>768.000000</td>\n",
              "      <td>768.000000</td>\n",
              "      <td>768.000000</td>\n",
              "    </tr>\n",
              "    <tr>\n",
              "      <th>mean</th>\n",
              "      <td>383.500000</td>\n",
              "      <td>3.845052</td>\n",
              "      <td>120.894531</td>\n",
              "      <td>69.105469</td>\n",
              "      <td>20.536458</td>\n",
              "      <td>79.799479</td>\n",
              "      <td>31.992578</td>\n",
              "      <td>0.471876</td>\n",
              "      <td>33.240885</td>\n",
              "      <td>0.348958</td>\n",
              "    </tr>\n",
              "    <tr>\n",
              "      <th>std</th>\n",
              "      <td>221.846794</td>\n",
              "      <td>3.369578</td>\n",
              "      <td>31.972618</td>\n",
              "      <td>19.355807</td>\n",
              "      <td>15.952218</td>\n",
              "      <td>115.244002</td>\n",
              "      <td>7.884160</td>\n",
              "      <td>0.331329</td>\n",
              "      <td>11.760232</td>\n",
              "      <td>0.476951</td>\n",
              "    </tr>\n",
              "    <tr>\n",
              "      <th>min</th>\n",
              "      <td>0.000000</td>\n",
              "      <td>0.000000</td>\n",
              "      <td>0.000000</td>\n",
              "      <td>0.000000</td>\n",
              "      <td>0.000000</td>\n",
              "      <td>0.000000</td>\n",
              "      <td>0.000000</td>\n",
              "      <td>0.078000</td>\n",
              "      <td>21.000000</td>\n",
              "      <td>0.000000</td>\n",
              "    </tr>\n",
              "    <tr>\n",
              "      <th>25%</th>\n",
              "      <td>191.750000</td>\n",
              "      <td>1.000000</td>\n",
              "      <td>99.000000</td>\n",
              "      <td>62.000000</td>\n",
              "      <td>0.000000</td>\n",
              "      <td>0.000000</td>\n",
              "      <td>27.300000</td>\n",
              "      <td>0.243750</td>\n",
              "      <td>24.000000</td>\n",
              "      <td>0.000000</td>\n",
              "    </tr>\n",
              "    <tr>\n",
              "      <th>50%</th>\n",
              "      <td>383.500000</td>\n",
              "      <td>3.000000</td>\n",
              "      <td>117.000000</td>\n",
              "      <td>72.000000</td>\n",
              "      <td>23.000000</td>\n",
              "      <td>30.500000</td>\n",
              "      <td>32.000000</td>\n",
              "      <td>0.372500</td>\n",
              "      <td>29.000000</td>\n",
              "      <td>0.000000</td>\n",
              "    </tr>\n",
              "    <tr>\n",
              "      <th>75%</th>\n",
              "      <td>575.250000</td>\n",
              "      <td>6.000000</td>\n",
              "      <td>140.250000</td>\n",
              "      <td>80.000000</td>\n",
              "      <td>32.000000</td>\n",
              "      <td>127.250000</td>\n",
              "      <td>36.600000</td>\n",
              "      <td>0.626250</td>\n",
              "      <td>41.000000</td>\n",
              "      <td>1.000000</td>\n",
              "    </tr>\n",
              "    <tr>\n",
              "      <th>max</th>\n",
              "      <td>767.000000</td>\n",
              "      <td>17.000000</td>\n",
              "      <td>199.000000</td>\n",
              "      <td>122.000000</td>\n",
              "      <td>99.000000</td>\n",
              "      <td>846.000000</td>\n",
              "      <td>67.100000</td>\n",
              "      <td>2.420000</td>\n",
              "      <td>81.000000</td>\n",
              "      <td>1.000000</td>\n",
              "    </tr>\n",
              "  </tbody>\n",
              "</table>\n",
              "</div>"
            ],
            "text/plain": [
              "       Unnamed: 0  times_pregnant  ...         age  onset_diabetes\n",
              "count  768.000000      768.000000  ...  768.000000      768.000000\n",
              "mean   383.500000        3.845052  ...   33.240885        0.348958\n",
              "std    221.846794        3.369578  ...   11.760232        0.476951\n",
              "min      0.000000        0.000000  ...   21.000000        0.000000\n",
              "25%    191.750000        1.000000  ...   24.000000        0.000000\n",
              "50%    383.500000        3.000000  ...   29.000000        0.000000\n",
              "75%    575.250000        6.000000  ...   41.000000        1.000000\n",
              "max    767.000000       17.000000  ...   81.000000        1.000000\n",
              "\n",
              "[8 rows x 10 columns]"
            ]
          },
          "metadata": {
            "tags": []
          },
          "execution_count": 4
        }
      ]
    },
    {
      "cell_type": "code",
      "metadata": {
        "id": "_lfRqqNjJDek"
      },
      "source": [
        "for i in ['serum_insulin', 'bmi', 'plasma_glucose_concentration', 'diastolic_blood_pressure', 'triceps_thickness']:\n",
        "  pima_df[i] = pima_df[i].replace([0],[None])"
      ],
      "execution_count": 5,
      "outputs": []
    },
    {
      "cell_type": "code",
      "metadata": {
        "colab": {
          "base_uri": "https://localhost:8080/"
        },
        "id": "e6HzBU6aJXni",
        "outputId": "8fb30c02-7292-492b-9ccd-046612a49700"
      },
      "source": [
        "pima_df.isnull().sum()"
      ],
      "execution_count": 6,
      "outputs": [
        {
          "output_type": "execute_result",
          "data": {
            "text/plain": [
              "Unnamed: 0                        0\n",
              "times_pregnant                    0\n",
              "plasma_glucose_concentration      5\n",
              "diastolic_blood_pressure         35\n",
              "triceps_thickness               227\n",
              "serum_insulin                   374\n",
              "bmi                              11\n",
              "pedigree_function                 0\n",
              "age                               0\n",
              "onset_diabetes                    0\n",
              "dtype: int64"
            ]
          },
          "metadata": {
            "tags": []
          },
          "execution_count": 6
        }
      ]
    },
    {
      "cell_type": "code",
      "metadata": {
        "colab": {
          "base_uri": "https://localhost:8080/",
          "height": 294
        },
        "id": "zMGXwDaTJxE2",
        "outputId": "70287f59-029a-4fd4-c01d-203429b6b049"
      },
      "source": [
        "pima_df.describe()"
      ],
      "execution_count": 7,
      "outputs": [
        {
          "output_type": "execute_result",
          "data": {
            "text/html": [
              "<div>\n",
              "<style scoped>\n",
              "    .dataframe tbody tr th:only-of-type {\n",
              "        vertical-align: middle;\n",
              "    }\n",
              "\n",
              "    .dataframe tbody tr th {\n",
              "        vertical-align: top;\n",
              "    }\n",
              "\n",
              "    .dataframe thead th {\n",
              "        text-align: right;\n",
              "    }\n",
              "</style>\n",
              "<table border=\"1\" class=\"dataframe\">\n",
              "  <thead>\n",
              "    <tr style=\"text-align: right;\">\n",
              "      <th></th>\n",
              "      <th>Unnamed: 0</th>\n",
              "      <th>times_pregnant</th>\n",
              "      <th>pedigree_function</th>\n",
              "      <th>age</th>\n",
              "      <th>onset_diabetes</th>\n",
              "    </tr>\n",
              "  </thead>\n",
              "  <tbody>\n",
              "    <tr>\n",
              "      <th>count</th>\n",
              "      <td>768.000000</td>\n",
              "      <td>768.000000</td>\n",
              "      <td>768.000000</td>\n",
              "      <td>768.000000</td>\n",
              "      <td>768.000000</td>\n",
              "    </tr>\n",
              "    <tr>\n",
              "      <th>mean</th>\n",
              "      <td>383.500000</td>\n",
              "      <td>3.845052</td>\n",
              "      <td>0.471876</td>\n",
              "      <td>33.240885</td>\n",
              "      <td>0.348958</td>\n",
              "    </tr>\n",
              "    <tr>\n",
              "      <th>std</th>\n",
              "      <td>221.846794</td>\n",
              "      <td>3.369578</td>\n",
              "      <td>0.331329</td>\n",
              "      <td>11.760232</td>\n",
              "      <td>0.476951</td>\n",
              "    </tr>\n",
              "    <tr>\n",
              "      <th>min</th>\n",
              "      <td>0.000000</td>\n",
              "      <td>0.000000</td>\n",
              "      <td>0.078000</td>\n",
              "      <td>21.000000</td>\n",
              "      <td>0.000000</td>\n",
              "    </tr>\n",
              "    <tr>\n",
              "      <th>25%</th>\n",
              "      <td>191.750000</td>\n",
              "      <td>1.000000</td>\n",
              "      <td>0.243750</td>\n",
              "      <td>24.000000</td>\n",
              "      <td>0.000000</td>\n",
              "    </tr>\n",
              "    <tr>\n",
              "      <th>50%</th>\n",
              "      <td>383.500000</td>\n",
              "      <td>3.000000</td>\n",
              "      <td>0.372500</td>\n",
              "      <td>29.000000</td>\n",
              "      <td>0.000000</td>\n",
              "    </tr>\n",
              "    <tr>\n",
              "      <th>75%</th>\n",
              "      <td>575.250000</td>\n",
              "      <td>6.000000</td>\n",
              "      <td>0.626250</td>\n",
              "      <td>41.000000</td>\n",
              "      <td>1.000000</td>\n",
              "    </tr>\n",
              "    <tr>\n",
              "      <th>max</th>\n",
              "      <td>767.000000</td>\n",
              "      <td>17.000000</td>\n",
              "      <td>2.420000</td>\n",
              "      <td>81.000000</td>\n",
              "      <td>1.000000</td>\n",
              "    </tr>\n",
              "  </tbody>\n",
              "</table>\n",
              "</div>"
            ],
            "text/plain": [
              "       Unnamed: 0  times_pregnant  ...         age  onset_diabetes\n",
              "count  768.000000      768.000000  ...  768.000000      768.000000\n",
              "mean   383.500000        3.845052  ...   33.240885        0.348958\n",
              "std    221.846794        3.369578  ...   11.760232        0.476951\n",
              "min      0.000000        0.000000  ...   21.000000        0.000000\n",
              "25%    191.750000        1.000000  ...   24.000000        0.000000\n",
              "50%    383.500000        3.000000  ...   29.000000        0.000000\n",
              "75%    575.250000        6.000000  ...   41.000000        1.000000\n",
              "max    767.000000       17.000000  ...   81.000000        1.000000\n",
              "\n",
              "[8 rows x 5 columns]"
            ]
          },
          "metadata": {
            "tags": []
          },
          "execution_count": 7
        }
      ]
    },
    {
      "cell_type": "code",
      "metadata": {
        "colab": {
          "base_uri": "https://localhost:8080/"
        },
        "id": "Lly1iqXVMGKi",
        "outputId": "5d5588f6-dddf-40cf-a762-e8a958762a53"
      },
      "source": [
        "null = pima_df['plasma_glucose_concentration'].isnull()\n",
        "null"
      ],
      "execution_count": 8,
      "outputs": [
        {
          "output_type": "execute_result",
          "data": {
            "text/plain": [
              "0      False\n",
              "1      False\n",
              "2      False\n",
              "3      False\n",
              "4      False\n",
              "       ...  \n",
              "763    False\n",
              "764    False\n",
              "765    False\n",
              "766    False\n",
              "767    False\n",
              "Name: plasma_glucose_concentration, Length: 768, dtype: bool"
            ]
          },
          "metadata": {
            "tags": []
          },
          "execution_count": 8
        }
      ]
    },
    {
      "cell_type": "code",
      "metadata": {
        "colab": {
          "base_uri": "https://localhost:8080/",
          "height": 202
        },
        "id": "-Qnx_4D9MN8X",
        "outputId": "7762bfe5-5619-42a6-a0fd-428d78d6af17"
      },
      "source": [
        "pima_df[null] ##查出plasma_glucose_concentration有缺失的資料"
      ],
      "execution_count": 9,
      "outputs": [
        {
          "output_type": "execute_result",
          "data": {
            "text/html": [
              "<div>\n",
              "<style scoped>\n",
              "    .dataframe tbody tr th:only-of-type {\n",
              "        vertical-align: middle;\n",
              "    }\n",
              "\n",
              "    .dataframe tbody tr th {\n",
              "        vertical-align: top;\n",
              "    }\n",
              "\n",
              "    .dataframe thead th {\n",
              "        text-align: right;\n",
              "    }\n",
              "</style>\n",
              "<table border=\"1\" class=\"dataframe\">\n",
              "  <thead>\n",
              "    <tr style=\"text-align: right;\">\n",
              "      <th></th>\n",
              "      <th>Unnamed: 0</th>\n",
              "      <th>times_pregnant</th>\n",
              "      <th>plasma_glucose_concentration</th>\n",
              "      <th>diastolic_blood_pressure</th>\n",
              "      <th>triceps_thickness</th>\n",
              "      <th>serum_insulin</th>\n",
              "      <th>bmi</th>\n",
              "      <th>pedigree_function</th>\n",
              "      <th>age</th>\n",
              "      <th>onset_diabetes</th>\n",
              "    </tr>\n",
              "  </thead>\n",
              "  <tbody>\n",
              "    <tr>\n",
              "      <th>75</th>\n",
              "      <td>75</td>\n",
              "      <td>1</td>\n",
              "      <td>None</td>\n",
              "      <td>48</td>\n",
              "      <td>20</td>\n",
              "      <td>None</td>\n",
              "      <td>24.7</td>\n",
              "      <td>0.140</td>\n",
              "      <td>22</td>\n",
              "      <td>0</td>\n",
              "    </tr>\n",
              "    <tr>\n",
              "      <th>182</th>\n",
              "      <td>182</td>\n",
              "      <td>1</td>\n",
              "      <td>None</td>\n",
              "      <td>74</td>\n",
              "      <td>20</td>\n",
              "      <td>23</td>\n",
              "      <td>27.7</td>\n",
              "      <td>0.299</td>\n",
              "      <td>21</td>\n",
              "      <td>0</td>\n",
              "    </tr>\n",
              "    <tr>\n",
              "      <th>342</th>\n",
              "      <td>342</td>\n",
              "      <td>1</td>\n",
              "      <td>None</td>\n",
              "      <td>68</td>\n",
              "      <td>35</td>\n",
              "      <td>None</td>\n",
              "      <td>32</td>\n",
              "      <td>0.389</td>\n",
              "      <td>22</td>\n",
              "      <td>0</td>\n",
              "    </tr>\n",
              "    <tr>\n",
              "      <th>349</th>\n",
              "      <td>349</td>\n",
              "      <td>5</td>\n",
              "      <td>None</td>\n",
              "      <td>80</td>\n",
              "      <td>32</td>\n",
              "      <td>None</td>\n",
              "      <td>41</td>\n",
              "      <td>0.346</td>\n",
              "      <td>37</td>\n",
              "      <td>1</td>\n",
              "    </tr>\n",
              "    <tr>\n",
              "      <th>502</th>\n",
              "      <td>502</td>\n",
              "      <td>6</td>\n",
              "      <td>None</td>\n",
              "      <td>68</td>\n",
              "      <td>41</td>\n",
              "      <td>None</td>\n",
              "      <td>39</td>\n",
              "      <td>0.727</td>\n",
              "      <td>41</td>\n",
              "      <td>1</td>\n",
              "    </tr>\n",
              "  </tbody>\n",
              "</table>\n",
              "</div>"
            ],
            "text/plain": [
              "     Unnamed: 0  times_pregnant  ... age onset_diabetes\n",
              "75           75               1  ...  22              0\n",
              "182         182               1  ...  21              0\n",
              "342         342               1  ...  22              0\n",
              "349         349               5  ...  37              1\n",
              "502         502               6  ...  41              1\n",
              "\n",
              "[5 rows x 10 columns]"
            ]
          },
          "metadata": {
            "tags": []
          },
          "execution_count": 9
        }
      ]
    },
    {
      "cell_type": "code",
      "metadata": {
        "id": "hoYC4046NjV6"
      },
      "source": [
        "pima_dropped = pima_df.dropna()"
      ],
      "execution_count": 10,
      "outputs": []
    },
    {
      "cell_type": "code",
      "metadata": {
        "colab": {
          "base_uri": "https://localhost:8080/"
        },
        "id": "8kCVLWpIOUui",
        "outputId": "53d4fbcb-1d72-4d82-9b07-da7d6345f9fc"
      },
      "source": [
        "pima_dropped.isnull().sum()"
      ],
      "execution_count": 12,
      "outputs": [
        {
          "output_type": "execute_result",
          "data": {
            "text/plain": [
              "Unnamed: 0                      0\n",
              "times_pregnant                  0\n",
              "plasma_glucose_concentration    0\n",
              "diastolic_blood_pressure        0\n",
              "triceps_thickness               0\n",
              "serum_insulin                   0\n",
              "bmi                             0\n",
              "pedigree_function               0\n",
              "age                             0\n",
              "onset_diabetes                  0\n",
              "dtype: int64"
            ]
          },
          "metadata": {
            "tags": []
          },
          "execution_count": 12
        }
      ]
    }
  ]
}