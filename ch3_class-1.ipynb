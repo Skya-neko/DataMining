{
  "nbformat": 4,
  "nbformat_minor": 0,
  "metadata": {
    "colab": {
      "name": "ch3_class-1-1.ipynb",
      "provenance": [],
      "collapsed_sections": []
    },
    "kernelspec": {
      "name": "python3",
      "display_name": "Python 3"
    },
    "language_info": {
      "name": "python"
    },
    "accelerator": "GPU"
  },
  "cells": [
    {
      "cell_type": "code",
      "metadata": {
        "colab": {
          "base_uri": "https://localhost:8080/",
          "height": 110
        },
        "id": "trdGIKNhU187",
        "outputId": "69c3588b-0881-4e70-9bd0-c938fdbb2cc2"
      },
      "source": [
        "import pandas as pd\n",
        "spending_df = pd.DataFrame({\n",
        "    '生活費':[8000, 7000],\n",
        "    '娛樂費':[3000, 5000],\n",
        "    '交通費':[1000, 1200]\n",
        "\n",
        " })\n",
        "spending_df.head()"
      ],
      "execution_count": 1,
      "outputs": [
        {
          "output_type": "execute_result",
          "data": {
            "text/html": [
              "<div>\n",
              "<style scoped>\n",
              "    .dataframe tbody tr th:only-of-type {\n",
              "        vertical-align: middle;\n",
              "    }\n",
              "\n",
              "    .dataframe tbody tr th {\n",
              "        vertical-align: top;\n",
              "    }\n",
              "\n",
              "    .dataframe thead th {\n",
              "        text-align: right;\n",
              "    }\n",
              "</style>\n",
              "<table border=\"1\" class=\"dataframe\">\n",
              "  <thead>\n",
              "    <tr style=\"text-align: right;\">\n",
              "      <th></th>\n",
              "      <th>生活費</th>\n",
              "      <th>娛樂費</th>\n",
              "      <th>交通費</th>\n",
              "    </tr>\n",
              "  </thead>\n",
              "  <tbody>\n",
              "    <tr>\n",
              "      <th>0</th>\n",
              "      <td>8000</td>\n",
              "      <td>3000</td>\n",
              "      <td>1000</td>\n",
              "    </tr>\n",
              "    <tr>\n",
              "      <th>1</th>\n",
              "      <td>7000</td>\n",
              "      <td>5000</td>\n",
              "      <td>1200</td>\n",
              "    </tr>\n",
              "  </tbody>\n",
              "</table>\n",
              "</div>"
            ],
            "text/plain": [
              "    生活費   娛樂費   交通費\n",
              "0  8000  3000  1000\n",
              "1  7000  5000  1200"
            ]
          },
          "metadata": {
            "tags": []
          },
          "execution_count": 1
        }
      ]
    },
    {
      "cell_type": "code",
      "metadata": {
        "id": "6yCqyn1ftzdN",
        "colab": {
          "base_uri": "https://localhost:8080/",
          "height": 110
        },
        "outputId": "5c82fb89-f585-43a8-ad01-899b7ba5fc77"
      },
      "source": [
        "#新增一欄\n",
        "spending_df['住宿費'] = [8000, 8000]\n",
        "spending_df"
      ],
      "execution_count": 2,
      "outputs": [
        {
          "output_type": "execute_result",
          "data": {
            "text/html": [
              "<div>\n",
              "<style scoped>\n",
              "    .dataframe tbody tr th:only-of-type {\n",
              "        vertical-align: middle;\n",
              "    }\n",
              "\n",
              "    .dataframe tbody tr th {\n",
              "        vertical-align: top;\n",
              "    }\n",
              "\n",
              "    .dataframe thead th {\n",
              "        text-align: right;\n",
              "    }\n",
              "</style>\n",
              "<table border=\"1\" class=\"dataframe\">\n",
              "  <thead>\n",
              "    <tr style=\"text-align: right;\">\n",
              "      <th></th>\n",
              "      <th>生活費</th>\n",
              "      <th>娛樂費</th>\n",
              "      <th>交通費</th>\n",
              "      <th>住宿費</th>\n",
              "    </tr>\n",
              "  </thead>\n",
              "  <tbody>\n",
              "    <tr>\n",
              "      <th>0</th>\n",
              "      <td>8000</td>\n",
              "      <td>3000</td>\n",
              "      <td>1000</td>\n",
              "      <td>8000</td>\n",
              "    </tr>\n",
              "    <tr>\n",
              "      <th>1</th>\n",
              "      <td>7000</td>\n",
              "      <td>5000</td>\n",
              "      <td>1200</td>\n",
              "      <td>8000</td>\n",
              "    </tr>\n",
              "  </tbody>\n",
              "</table>\n",
              "</div>"
            ],
            "text/plain": [
              "    生活費   娛樂費   交通費   住宿費\n",
              "0  8000  3000  1000  8000\n",
              "1  7000  5000  1200  8000"
            ]
          },
          "metadata": {
            "tags": []
          },
          "execution_count": 2
        }
      ]
    },
    {
      "cell_type": "code",
      "metadata": {
        "colab": {
          "base_uri": "https://localhost:8080/",
          "height": 141
        },
        "id": "gQANF7ad6osz",
        "outputId": "9ea0df15-3be7-4832-ee6d-2a9dd8269a1c"
      },
      "source": [
        "#新增一列，如該列有資料則直接取代該列\n",
        "spending_df.loc[2]=[7500, 4000, 1200, 8000]\n",
        "spending_df"
      ],
      "execution_count": 3,
      "outputs": [
        {
          "output_type": "execute_result",
          "data": {
            "text/html": [
              "<div>\n",
              "<style scoped>\n",
              "    .dataframe tbody tr th:only-of-type {\n",
              "        vertical-align: middle;\n",
              "    }\n",
              "\n",
              "    .dataframe tbody tr th {\n",
              "        vertical-align: top;\n",
              "    }\n",
              "\n",
              "    .dataframe thead th {\n",
              "        text-align: right;\n",
              "    }\n",
              "</style>\n",
              "<table border=\"1\" class=\"dataframe\">\n",
              "  <thead>\n",
              "    <tr style=\"text-align: right;\">\n",
              "      <th></th>\n",
              "      <th>生活費</th>\n",
              "      <th>娛樂費</th>\n",
              "      <th>交通費</th>\n",
              "      <th>住宿費</th>\n",
              "    </tr>\n",
              "  </thead>\n",
              "  <tbody>\n",
              "    <tr>\n",
              "      <th>0</th>\n",
              "      <td>8000</td>\n",
              "      <td>3000</td>\n",
              "      <td>1000</td>\n",
              "      <td>8000</td>\n",
              "    </tr>\n",
              "    <tr>\n",
              "      <th>1</th>\n",
              "      <td>7000</td>\n",
              "      <td>5000</td>\n",
              "      <td>1200</td>\n",
              "      <td>8000</td>\n",
              "    </tr>\n",
              "    <tr>\n",
              "      <th>2</th>\n",
              "      <td>7500</td>\n",
              "      <td>4000</td>\n",
              "      <td>1200</td>\n",
              "      <td>8000</td>\n",
              "    </tr>\n",
              "  </tbody>\n",
              "</table>\n",
              "</div>"
            ],
            "text/plain": [
              "    生活費   娛樂費   交通費   住宿費\n",
              "0  8000  3000  1000  8000\n",
              "1  7000  5000  1200  8000\n",
              "2  7500  4000  1200  8000"
            ]
          },
          "metadata": {
            "tags": []
          },
          "execution_count": 3
        }
      ]
    },
    {
      "cell_type": "code",
      "metadata": {
        "colab": {
          "base_uri": "https://localhost:8080/",
          "height": 141
        },
        "id": "nV4PEIUH9Mq-",
        "outputId": "37fe41a5-815a-4f5c-8636-c1aa9b3c6e25"
      },
      "source": [
        "#改變df欄名稱(axis = 1)\n",
        "rename_attribute = {'生活費':'110年生活費','娛樂費':'110年娛樂費','交通費':'110年交通費','住宿費':'110年住宿費'}\n",
        "spending_df = spending_df.rename(rename_attribute, axis=1)\n",
        "spending_df"
      ],
      "execution_count": 4,
      "outputs": [
        {
          "output_type": "execute_result",
          "data": {
            "text/html": [
              "<div>\n",
              "<style scoped>\n",
              "    .dataframe tbody tr th:only-of-type {\n",
              "        vertical-align: middle;\n",
              "    }\n",
              "\n",
              "    .dataframe tbody tr th {\n",
              "        vertical-align: top;\n",
              "    }\n",
              "\n",
              "    .dataframe thead th {\n",
              "        text-align: right;\n",
              "    }\n",
              "</style>\n",
              "<table border=\"1\" class=\"dataframe\">\n",
              "  <thead>\n",
              "    <tr style=\"text-align: right;\">\n",
              "      <th></th>\n",
              "      <th>110年生活費</th>\n",
              "      <th>110年娛樂費</th>\n",
              "      <th>110年交通費</th>\n",
              "      <th>110年住宿費</th>\n",
              "    </tr>\n",
              "  </thead>\n",
              "  <tbody>\n",
              "    <tr>\n",
              "      <th>0</th>\n",
              "      <td>8000</td>\n",
              "      <td>3000</td>\n",
              "      <td>1000</td>\n",
              "      <td>8000</td>\n",
              "    </tr>\n",
              "    <tr>\n",
              "      <th>1</th>\n",
              "      <td>7000</td>\n",
              "      <td>5000</td>\n",
              "      <td>1200</td>\n",
              "      <td>8000</td>\n",
              "    </tr>\n",
              "    <tr>\n",
              "      <th>2</th>\n",
              "      <td>7500</td>\n",
              "      <td>4000</td>\n",
              "      <td>1200</td>\n",
              "      <td>8000</td>\n",
              "    </tr>\n",
              "  </tbody>\n",
              "</table>\n",
              "</div>"
            ],
            "text/plain": [
              "   110年生活費  110年娛樂費  110年交通費  110年住宿費\n",
              "0     8000     3000     1000     8000\n",
              "1     7000     5000     1200     8000\n",
              "2     7500     4000     1200     8000"
            ]
          },
          "metadata": {
            "tags": []
          },
          "execution_count": 4
        }
      ]
    },
    {
      "cell_type": "code",
      "metadata": {
        "colab": {
          "base_uri": "https://localhost:8080/",
          "height": 141
        },
        "id": "AGLedFzd-Ddd",
        "outputId": "f6031637-47e3-49e2-b83c-ed6ca23e2e86"
      },
      "source": [
        "#改變df列index(axis = 0)\n",
        "rename_index = {0:'一月',1:'二月',2:'三月'}\n",
        "spending_df = spending_df.rename(rename_index, axis=0)\n",
        "spending_df"
      ],
      "execution_count": 5,
      "outputs": [
        {
          "output_type": "execute_result",
          "data": {
            "text/html": [
              "<div>\n",
              "<style scoped>\n",
              "    .dataframe tbody tr th:only-of-type {\n",
              "        vertical-align: middle;\n",
              "    }\n",
              "\n",
              "    .dataframe tbody tr th {\n",
              "        vertical-align: top;\n",
              "    }\n",
              "\n",
              "    .dataframe thead th {\n",
              "        text-align: right;\n",
              "    }\n",
              "</style>\n",
              "<table border=\"1\" class=\"dataframe\">\n",
              "  <thead>\n",
              "    <tr style=\"text-align: right;\">\n",
              "      <th></th>\n",
              "      <th>110年生活費</th>\n",
              "      <th>110年娛樂費</th>\n",
              "      <th>110年交通費</th>\n",
              "      <th>110年住宿費</th>\n",
              "    </tr>\n",
              "  </thead>\n",
              "  <tbody>\n",
              "    <tr>\n",
              "      <th>一月</th>\n",
              "      <td>8000</td>\n",
              "      <td>3000</td>\n",
              "      <td>1000</td>\n",
              "      <td>8000</td>\n",
              "    </tr>\n",
              "    <tr>\n",
              "      <th>二月</th>\n",
              "      <td>7000</td>\n",
              "      <td>5000</td>\n",
              "      <td>1200</td>\n",
              "      <td>8000</td>\n",
              "    </tr>\n",
              "    <tr>\n",
              "      <th>三月</th>\n",
              "      <td>7500</td>\n",
              "      <td>4000</td>\n",
              "      <td>1200</td>\n",
              "      <td>8000</td>\n",
              "    </tr>\n",
              "  </tbody>\n",
              "</table>\n",
              "</div>"
            ],
            "text/plain": [
              "    110年生活費  110年娛樂費  110年交通費  110年住宿費\n",
              "一月     8000     3000     1000     8000\n",
              "二月     7000     5000     1200     8000\n",
              "三月     7500     4000     1200     8000"
            ]
          },
          "metadata": {
            "tags": []
          },
          "execution_count": 5
        }
      ]
    },
    {
      "cell_type": "code",
      "metadata": {
        "id": "9UPtznN6TpEQ"
      },
      "source": [
        "#儲存成csv檔\n",
        "spending_df.to_csv('spending_df.csv')"
      ],
      "execution_count": 6,
      "outputs": []
    },
    {
      "cell_type": "code",
      "metadata": {
        "colab": {
          "base_uri": "https://localhost:8080/",
          "height": 141
        },
        "id": "LnvsMbPciu31",
        "outputId": "d2dbf432-72b2-4213-9c06-59bfe1129a5a"
      },
      "source": [
        "#讀檔\n",
        "spending_df = pd.read_csv('spending_df.csv')\n",
        "spending_df"
      ],
      "execution_count": 7,
      "outputs": [
        {
          "output_type": "execute_result",
          "data": {
            "text/html": [
              "<div>\n",
              "<style scoped>\n",
              "    .dataframe tbody tr th:only-of-type {\n",
              "        vertical-align: middle;\n",
              "    }\n",
              "\n",
              "    .dataframe tbody tr th {\n",
              "        vertical-align: top;\n",
              "    }\n",
              "\n",
              "    .dataframe thead th {\n",
              "        text-align: right;\n",
              "    }\n",
              "</style>\n",
              "<table border=\"1\" class=\"dataframe\">\n",
              "  <thead>\n",
              "    <tr style=\"text-align: right;\">\n",
              "      <th></th>\n",
              "      <th>Unnamed: 0</th>\n",
              "      <th>110年生活費</th>\n",
              "      <th>110年娛樂費</th>\n",
              "      <th>110年交通費</th>\n",
              "      <th>110年住宿費</th>\n",
              "    </tr>\n",
              "  </thead>\n",
              "  <tbody>\n",
              "    <tr>\n",
              "      <th>0</th>\n",
              "      <td>一月</td>\n",
              "      <td>8000</td>\n",
              "      <td>3000</td>\n",
              "      <td>1000</td>\n",
              "      <td>8000</td>\n",
              "    </tr>\n",
              "    <tr>\n",
              "      <th>1</th>\n",
              "      <td>二月</td>\n",
              "      <td>7000</td>\n",
              "      <td>5000</td>\n",
              "      <td>1200</td>\n",
              "      <td>8000</td>\n",
              "    </tr>\n",
              "    <tr>\n",
              "      <th>2</th>\n",
              "      <td>三月</td>\n",
              "      <td>7500</td>\n",
              "      <td>4000</td>\n",
              "      <td>1200</td>\n",
              "      <td>8000</td>\n",
              "    </tr>\n",
              "  </tbody>\n",
              "</table>\n",
              "</div>"
            ],
            "text/plain": [
              "  Unnamed: 0  110年生活費  110年娛樂費  110年交通費  110年住宿費\n",
              "0         一月     8000     3000     1000     8000\n",
              "1         二月     7000     5000     1200     8000\n",
              "2         三月     7500     4000     1200     8000"
            ]
          },
          "metadata": {
            "tags": []
          },
          "execution_count": 7
        }
      ]
    },
    {
      "cell_type": "code",
      "metadata": {
        "colab": {
          "base_uri": "https://localhost:8080/",
          "height": 141
        },
        "id": "3OTDc98hjauV",
        "outputId": "cf673fe2-ba7e-475f-896f-11f1ed8930a7"
      },
      "source": [
        "#讀檔，使第一欄成為index\n",
        "spending_df = pd.read_csv('spending_df.csv',index_col=0)\n",
        "spending_df"
      ],
      "execution_count": 8,
      "outputs": [
        {
          "output_type": "execute_result",
          "data": {
            "text/html": [
              "<div>\n",
              "<style scoped>\n",
              "    .dataframe tbody tr th:only-of-type {\n",
              "        vertical-align: middle;\n",
              "    }\n",
              "\n",
              "    .dataframe tbody tr th {\n",
              "        vertical-align: top;\n",
              "    }\n",
              "\n",
              "    .dataframe thead th {\n",
              "        text-align: right;\n",
              "    }\n",
              "</style>\n",
              "<table border=\"1\" class=\"dataframe\">\n",
              "  <thead>\n",
              "    <tr style=\"text-align: right;\">\n",
              "      <th></th>\n",
              "      <th>110年生活費</th>\n",
              "      <th>110年娛樂費</th>\n",
              "      <th>110年交通費</th>\n",
              "      <th>110年住宿費</th>\n",
              "    </tr>\n",
              "  </thead>\n",
              "  <tbody>\n",
              "    <tr>\n",
              "      <th>一月</th>\n",
              "      <td>8000</td>\n",
              "      <td>3000</td>\n",
              "      <td>1000</td>\n",
              "      <td>8000</td>\n",
              "    </tr>\n",
              "    <tr>\n",
              "      <th>二月</th>\n",
              "      <td>7000</td>\n",
              "      <td>5000</td>\n",
              "      <td>1200</td>\n",
              "      <td>8000</td>\n",
              "    </tr>\n",
              "    <tr>\n",
              "      <th>三月</th>\n",
              "      <td>7500</td>\n",
              "      <td>4000</td>\n",
              "      <td>1200</td>\n",
              "      <td>8000</td>\n",
              "    </tr>\n",
              "  </tbody>\n",
              "</table>\n",
              "</div>"
            ],
            "text/plain": [
              "    110年生活費  110年娛樂費  110年交通費  110年住宿費\n",
              "一月     8000     3000     1000     8000\n",
              "二月     7000     5000     1200     8000\n",
              "三月     7500     4000     1200     8000"
            ]
          },
          "metadata": {
            "tags": []
          },
          "execution_count": 8
        }
      ]
    },
    {
      "cell_type": "code",
      "metadata": {
        "id": "qnIQLlfkCUiT"
      },
      "source": [
        "spending_df_tmp = spending_df"
      ],
      "execution_count": 6,
      "outputs": []
    },
    {
      "cell_type": "code",
      "metadata": {
        "colab": {
          "base_uri": "https://localhost:8080/",
          "height": 141
        },
        "id": "O-oEh_imAIAU",
        "outputId": "00ed3f48-50b9-4d5e-d09b-8d1b23bcdf2f"
      },
      "source": [
        "#刪除df欄資料(axis = 1)\n",
        "columns_drop = ['110年交通費', '110年住宿費']\n",
        "spending_df = spending_df.drop(columns_drop, axis=1)\n",
        "spending_df"
      ],
      "execution_count": 7,
      "outputs": [
        {
          "output_type": "execute_result",
          "data": {
            "text/html": [
              "<div>\n",
              "<style scoped>\n",
              "    .dataframe tbody tr th:only-of-type {\n",
              "        vertical-align: middle;\n",
              "    }\n",
              "\n",
              "    .dataframe tbody tr th {\n",
              "        vertical-align: top;\n",
              "    }\n",
              "\n",
              "    .dataframe thead th {\n",
              "        text-align: right;\n",
              "    }\n",
              "</style>\n",
              "<table border=\"1\" class=\"dataframe\">\n",
              "  <thead>\n",
              "    <tr style=\"text-align: right;\">\n",
              "      <th></th>\n",
              "      <th>110年生活費</th>\n",
              "      <th>110年娛樂費</th>\n",
              "    </tr>\n",
              "  </thead>\n",
              "  <tbody>\n",
              "    <tr>\n",
              "      <th>一月</th>\n",
              "      <td>8000</td>\n",
              "      <td>3000</td>\n",
              "    </tr>\n",
              "    <tr>\n",
              "      <th>二月</th>\n",
              "      <td>7000</td>\n",
              "      <td>5000</td>\n",
              "    </tr>\n",
              "    <tr>\n",
              "      <th>三月</th>\n",
              "      <td>7500</td>\n",
              "      <td>4000</td>\n",
              "    </tr>\n",
              "  </tbody>\n",
              "</table>\n",
              "</div>"
            ],
            "text/plain": [
              "    110年生活費  110年娛樂費\n",
              "一月     8000     3000\n",
              "二月     7000     5000\n",
              "三月     7500     4000"
            ]
          },
          "metadata": {
            "tags": []
          },
          "execution_count": 7
        }
      ]
    },
    {
      "cell_type": "code",
      "metadata": {
        "colab": {
          "base_uri": "https://localhost:8080/",
          "height": 78
        },
        "id": "GqtTUzj_Ah6U",
        "outputId": "05c91879-6991-451d-b518-23244b7d9f5f"
      },
      "source": [
        "#刪除列資料(axis = 0)\n",
        "rows_drop = ['二月', '三月']\n",
        "spending_df = spending_df.drop(rows_drop, axis=0)\n",
        "spending_df"
      ],
      "execution_count": 8,
      "outputs": [
        {
          "output_type": "execute_result",
          "data": {
            "text/html": [
              "<div>\n",
              "<style scoped>\n",
              "    .dataframe tbody tr th:only-of-type {\n",
              "        vertical-align: middle;\n",
              "    }\n",
              "\n",
              "    .dataframe tbody tr th {\n",
              "        vertical-align: top;\n",
              "    }\n",
              "\n",
              "    .dataframe thead th {\n",
              "        text-align: right;\n",
              "    }\n",
              "</style>\n",
              "<table border=\"1\" class=\"dataframe\">\n",
              "  <thead>\n",
              "    <tr style=\"text-align: right;\">\n",
              "      <th></th>\n",
              "      <th>110年生活費</th>\n",
              "      <th>110年娛樂費</th>\n",
              "    </tr>\n",
              "  </thead>\n",
              "  <tbody>\n",
              "    <tr>\n",
              "      <th>一月</th>\n",
              "      <td>8000</td>\n",
              "      <td>3000</td>\n",
              "    </tr>\n",
              "  </tbody>\n",
              "</table>\n",
              "</div>"
            ],
            "text/plain": [
              "    110年生活費  110年娛樂費\n",
              "一月     8000     3000"
            ]
          },
          "metadata": {
            "tags": []
          },
          "execution_count": 8
        }
      ]
    },
    {
      "cell_type": "code",
      "metadata": {
        "colab": {
          "base_uri": "https://localhost:8080/",
          "height": 141
        },
        "id": "uVY4hleGCGO2",
        "outputId": "8cf88544-6add-4e3d-c7f2-582c35d821c7"
      },
      "source": [
        "spending_df = spending_df_tmp\n",
        "spending_df"
      ],
      "execution_count": 9,
      "outputs": [
        {
          "output_type": "execute_result",
          "data": {
            "text/html": [
              "<div>\n",
              "<style scoped>\n",
              "    .dataframe tbody tr th:only-of-type {\n",
              "        vertical-align: middle;\n",
              "    }\n",
              "\n",
              "    .dataframe tbody tr th {\n",
              "        vertical-align: top;\n",
              "    }\n",
              "\n",
              "    .dataframe thead th {\n",
              "        text-align: right;\n",
              "    }\n",
              "</style>\n",
              "<table border=\"1\" class=\"dataframe\">\n",
              "  <thead>\n",
              "    <tr style=\"text-align: right;\">\n",
              "      <th></th>\n",
              "      <th>110年生活費</th>\n",
              "      <th>110年娛樂費</th>\n",
              "      <th>110年交通費</th>\n",
              "      <th>110年住宿費</th>\n",
              "    </tr>\n",
              "  </thead>\n",
              "  <tbody>\n",
              "    <tr>\n",
              "      <th>一月</th>\n",
              "      <td>8000</td>\n",
              "      <td>3000</td>\n",
              "      <td>1000</td>\n",
              "      <td>8000</td>\n",
              "    </tr>\n",
              "    <tr>\n",
              "      <th>二月</th>\n",
              "      <td>7000</td>\n",
              "      <td>5000</td>\n",
              "      <td>1200</td>\n",
              "      <td>8000</td>\n",
              "    </tr>\n",
              "    <tr>\n",
              "      <th>三月</th>\n",
              "      <td>7500</td>\n",
              "      <td>4000</td>\n",
              "      <td>1200</td>\n",
              "      <td>8000</td>\n",
              "    </tr>\n",
              "  </tbody>\n",
              "</table>\n",
              "</div>"
            ],
            "text/plain": [
              "    110年生活費  110年娛樂費  110年交通費  110年住宿費\n",
              "一月     8000     3000     1000     8000\n",
              "二月     7000     5000     1200     8000\n",
              "三月     7500     4000     1200     8000"
            ]
          },
          "metadata": {
            "tags": []
          },
          "execution_count": 9
        }
      ]
    },
    {
      "cell_type": "code",
      "metadata": {
        "colab": {
          "base_uri": "https://localhost:8080/",
          "height": 141
        },
        "id": "m_6AOfURCqxF",
        "outputId": "bf8c786f-68b1-4a69-b673-fb3a494b32ad"
      },
      "source": [
        "#重置列索引\n",
        "#方法一\n",
        "spending_df = spending_df.reset_index()#inplace=False\n",
        "spending_df"
      ],
      "execution_count": 10,
      "outputs": [
        {
          "output_type": "execute_result",
          "data": {
            "text/html": [
              "<div>\n",
              "<style scoped>\n",
              "    .dataframe tbody tr th:only-of-type {\n",
              "        vertical-align: middle;\n",
              "    }\n",
              "\n",
              "    .dataframe tbody tr th {\n",
              "        vertical-align: top;\n",
              "    }\n",
              "\n",
              "    .dataframe thead th {\n",
              "        text-align: right;\n",
              "    }\n",
              "</style>\n",
              "<table border=\"1\" class=\"dataframe\">\n",
              "  <thead>\n",
              "    <tr style=\"text-align: right;\">\n",
              "      <th></th>\n",
              "      <th>index</th>\n",
              "      <th>110年生活費</th>\n",
              "      <th>110年娛樂費</th>\n",
              "      <th>110年交通費</th>\n",
              "      <th>110年住宿費</th>\n",
              "    </tr>\n",
              "  </thead>\n",
              "  <tbody>\n",
              "    <tr>\n",
              "      <th>0</th>\n",
              "      <td>一月</td>\n",
              "      <td>8000</td>\n",
              "      <td>3000</td>\n",
              "      <td>1000</td>\n",
              "      <td>8000</td>\n",
              "    </tr>\n",
              "    <tr>\n",
              "      <th>1</th>\n",
              "      <td>二月</td>\n",
              "      <td>7000</td>\n",
              "      <td>5000</td>\n",
              "      <td>1200</td>\n",
              "      <td>8000</td>\n",
              "    </tr>\n",
              "    <tr>\n",
              "      <th>2</th>\n",
              "      <td>三月</td>\n",
              "      <td>7500</td>\n",
              "      <td>4000</td>\n",
              "      <td>1200</td>\n",
              "      <td>8000</td>\n",
              "    </tr>\n",
              "  </tbody>\n",
              "</table>\n",
              "</div>"
            ],
            "text/plain": [
              "  index  110年生活費  110年娛樂費  110年交通費  110年住宿費\n",
              "0    一月     8000     3000     1000     8000\n",
              "1    二月     7000     5000     1200     8000\n",
              "2    三月     7500     4000     1200     8000"
            ]
          },
          "metadata": {
            "tags": []
          },
          "execution_count": 10
        }
      ]
    },
    {
      "cell_type": "code",
      "metadata": {
        "colab": {
          "base_uri": "https://localhost:8080/",
          "height": 141
        },
        "id": "1zhuyx_r3PWl",
        "outputId": "35d48b00-ef7f-429a-e5e6-9c90ea16127d"
      },
      "source": [
        "spending_df = spending_df_tmp\n",
        "spending_df"
      ],
      "execution_count": 11,
      "outputs": [
        {
          "output_type": "execute_result",
          "data": {
            "text/html": [
              "<div>\n",
              "<style scoped>\n",
              "    .dataframe tbody tr th:only-of-type {\n",
              "        vertical-align: middle;\n",
              "    }\n",
              "\n",
              "    .dataframe tbody tr th {\n",
              "        vertical-align: top;\n",
              "    }\n",
              "\n",
              "    .dataframe thead th {\n",
              "        text-align: right;\n",
              "    }\n",
              "</style>\n",
              "<table border=\"1\" class=\"dataframe\">\n",
              "  <thead>\n",
              "    <tr style=\"text-align: right;\">\n",
              "      <th></th>\n",
              "      <th>110年生活費</th>\n",
              "      <th>110年娛樂費</th>\n",
              "      <th>110年交通費</th>\n",
              "      <th>110年住宿費</th>\n",
              "    </tr>\n",
              "  </thead>\n",
              "  <tbody>\n",
              "    <tr>\n",
              "      <th>一月</th>\n",
              "      <td>8000</td>\n",
              "      <td>3000</td>\n",
              "      <td>1000</td>\n",
              "      <td>8000</td>\n",
              "    </tr>\n",
              "    <tr>\n",
              "      <th>二月</th>\n",
              "      <td>7000</td>\n",
              "      <td>5000</td>\n",
              "      <td>1200</td>\n",
              "      <td>8000</td>\n",
              "    </tr>\n",
              "    <tr>\n",
              "      <th>三月</th>\n",
              "      <td>7500</td>\n",
              "      <td>4000</td>\n",
              "      <td>1200</td>\n",
              "      <td>8000</td>\n",
              "    </tr>\n",
              "  </tbody>\n",
              "</table>\n",
              "</div>"
            ],
            "text/plain": [
              "    110年生活費  110年娛樂費  110年交通費  110年住宿費\n",
              "一月     8000     3000     1000     8000\n",
              "二月     7000     5000     1200     8000\n",
              "三月     7500     4000     1200     8000"
            ]
          },
          "metadata": {
            "tags": []
          },
          "execution_count": 11
        }
      ]
    },
    {
      "cell_type": "code",
      "metadata": {
        "colab": {
          "base_uri": "https://localhost:8080/",
          "height": 141
        },
        "id": "MFlgVroJ4H17",
        "outputId": "e1818aaf-224b-45d4-9d4a-6b46565fa2f2"
      },
      "source": [
        "#重置列索引\n",
        "#方法二\n",
        "spending_df = spending_df.reset_index(drop=True)\n",
        "spending_df"
      ],
      "execution_count": 12,
      "outputs": [
        {
          "output_type": "execute_result",
          "data": {
            "text/html": [
              "<div>\n",
              "<style scoped>\n",
              "    .dataframe tbody tr th:only-of-type {\n",
              "        vertical-align: middle;\n",
              "    }\n",
              "\n",
              "    .dataframe tbody tr th {\n",
              "        vertical-align: top;\n",
              "    }\n",
              "\n",
              "    .dataframe thead th {\n",
              "        text-align: right;\n",
              "    }\n",
              "</style>\n",
              "<table border=\"1\" class=\"dataframe\">\n",
              "  <thead>\n",
              "    <tr style=\"text-align: right;\">\n",
              "      <th></th>\n",
              "      <th>110年生活費</th>\n",
              "      <th>110年娛樂費</th>\n",
              "      <th>110年交通費</th>\n",
              "      <th>110年住宿費</th>\n",
              "    </tr>\n",
              "  </thead>\n",
              "  <tbody>\n",
              "    <tr>\n",
              "      <th>0</th>\n",
              "      <td>8000</td>\n",
              "      <td>3000</td>\n",
              "      <td>1000</td>\n",
              "      <td>8000</td>\n",
              "    </tr>\n",
              "    <tr>\n",
              "      <th>1</th>\n",
              "      <td>7000</td>\n",
              "      <td>5000</td>\n",
              "      <td>1200</td>\n",
              "      <td>8000</td>\n",
              "    </tr>\n",
              "    <tr>\n",
              "      <th>2</th>\n",
              "      <td>7500</td>\n",
              "      <td>4000</td>\n",
              "      <td>1200</td>\n",
              "      <td>8000</td>\n",
              "    </tr>\n",
              "  </tbody>\n",
              "</table>\n",
              "</div>"
            ],
            "text/plain": [
              "   110年生活費  110年娛樂費  110年交通費  110年住宿費\n",
              "0     8000     3000     1000     8000\n",
              "1     7000     5000     1200     8000\n",
              "2     7500     4000     1200     8000"
            ]
          },
          "metadata": {
            "tags": []
          },
          "execution_count": 12
        }
      ]
    },
    {
      "cell_type": "code",
      "metadata": {
        "colab": {
          "base_uri": "https://localhost:8080/",
          "height": 141
        },
        "id": "ZStdlqo_4m1n",
        "outputId": "4b967552-f684-4139-f230-d8e5694ea746"
      },
      "source": [
        "spending_df = spending_df_tmp\n",
        "spending_df"
      ],
      "execution_count": 13,
      "outputs": [
        {
          "output_type": "execute_result",
          "data": {
            "text/html": [
              "<div>\n",
              "<style scoped>\n",
              "    .dataframe tbody tr th:only-of-type {\n",
              "        vertical-align: middle;\n",
              "    }\n",
              "\n",
              "    .dataframe tbody tr th {\n",
              "        vertical-align: top;\n",
              "    }\n",
              "\n",
              "    .dataframe thead th {\n",
              "        text-align: right;\n",
              "    }\n",
              "</style>\n",
              "<table border=\"1\" class=\"dataframe\">\n",
              "  <thead>\n",
              "    <tr style=\"text-align: right;\">\n",
              "      <th></th>\n",
              "      <th>110年生活費</th>\n",
              "      <th>110年娛樂費</th>\n",
              "      <th>110年交通費</th>\n",
              "      <th>110年住宿費</th>\n",
              "    </tr>\n",
              "  </thead>\n",
              "  <tbody>\n",
              "    <tr>\n",
              "      <th>一月</th>\n",
              "      <td>8000</td>\n",
              "      <td>3000</td>\n",
              "      <td>1000</td>\n",
              "      <td>8000</td>\n",
              "    </tr>\n",
              "    <tr>\n",
              "      <th>二月</th>\n",
              "      <td>7000</td>\n",
              "      <td>5000</td>\n",
              "      <td>1200</td>\n",
              "      <td>8000</td>\n",
              "    </tr>\n",
              "    <tr>\n",
              "      <th>三月</th>\n",
              "      <td>7500</td>\n",
              "      <td>4000</td>\n",
              "      <td>1200</td>\n",
              "      <td>8000</td>\n",
              "    </tr>\n",
              "  </tbody>\n",
              "</table>\n",
              "</div>"
            ],
            "text/plain": [
              "    110年生活費  110年娛樂費  110年交通費  110年住宿費\n",
              "一月     8000     3000     1000     8000\n",
              "二月     7000     5000     1200     8000\n",
              "三月     7500     4000     1200     8000"
            ]
          },
          "metadata": {
            "tags": []
          },
          "execution_count": 13
        }
      ]
    },
    {
      "cell_type": "code",
      "metadata": {
        "colab": {
          "base_uri": "https://localhost:8080/"
        },
        "id": "FPPLpN2a5oZU",
        "outputId": "9d10df9c-3832-4748-fef5-2a9c54bf4e98"
      },
      "source": [
        "#查詢欄資料\n",
        "spending_df['110年交通費']"
      ],
      "execution_count": 14,
      "outputs": [
        {
          "output_type": "execute_result",
          "data": {
            "text/plain": [
              "一月    1000\n",
              "二月    1200\n",
              "三月    1200\n",
              "Name: 110年交通費, dtype: int64"
            ]
          },
          "metadata": {
            "tags": []
          },
          "execution_count": 14
        }
      ]
    },
    {
      "cell_type": "code",
      "metadata": {
        "colab": {
          "base_uri": "https://localhost:8080/"
        },
        "id": "SnSCr9yT59Y4",
        "outputId": "b6ae9271-5ca7-4bb4-d0cb-32d4e84f78fd"
      },
      "source": [
        "#查詢列資料\n",
        "spending_df.loc['一月']"
      ],
      "execution_count": 15,
      "outputs": [
        {
          "output_type": "execute_result",
          "data": {
            "text/plain": [
              "110年生活費    8000\n",
              "110年娛樂費    3000\n",
              "110年交通費    1000\n",
              "110年住宿費    8000\n",
              "Name: 一月, dtype: int64"
            ]
          },
          "metadata": {
            "tags": []
          },
          "execution_count": 15
        }
      ]
    },
    {
      "cell_type": "code",
      "metadata": {
        "colab": {
          "base_uri": "https://localhost:8080/"
        },
        "id": "gAu-dIbY62qh",
        "outputId": "9e134cfd-8230-495d-e01e-91a60a87b948"
      },
      "source": [
        "#查詢單一值\n",
        "spending_df['110年交通費']['一月']"
      ],
      "execution_count": 16,
      "outputs": [
        {
          "output_type": "execute_result",
          "data": {
            "text/plain": [
              "1000"
            ]
          },
          "metadata": {
            "tags": []
          },
          "execution_count": 16
        }
      ]
    },
    {
      "cell_type": "code",
      "metadata": {
        "colab": {
          "base_uri": "https://localhost:8080/"
        },
        "id": "XoH73sjH76od",
        "outputId": "c3ef4f9a-48d4-492d-9925-34223ac8efcc"
      },
      "source": [
        "#無視欄名稱和列index，查詢欄資料\n",
        "spending_df.iloc[:,2]"
      ],
      "execution_count": 17,
      "outputs": [
        {
          "output_type": "execute_result",
          "data": {
            "text/plain": [
              "一月    1000\n",
              "二月    1200\n",
              "三月    1200\n",
              "Name: 110年交通費, dtype: int64"
            ]
          },
          "metadata": {
            "tags": []
          },
          "execution_count": 17
        }
      ]
    },
    {
      "cell_type": "code",
      "metadata": {
        "colab": {
          "base_uri": "https://localhost:8080/"
        },
        "id": "5TikboWw7oZb",
        "outputId": "29249554-b28f-45ff-bc23-548b6ebc8be7"
      },
      "source": [
        "#無視欄名稱和列index，查詢列資料\n",
        "spending_df.iloc[0,:]"
      ],
      "execution_count": 18,
      "outputs": [
        {
          "output_type": "execute_result",
          "data": {
            "text/plain": [
              "110年生活費    8000\n",
              "110年娛樂費    3000\n",
              "110年交通費    1000\n",
              "110年住宿費    8000\n",
              "Name: 一月, dtype: int64"
            ]
          },
          "metadata": {
            "tags": []
          },
          "execution_count": 18
        }
      ]
    },
    {
      "cell_type": "code",
      "metadata": {
        "colab": {
          "base_uri": "https://localhost:8080/"
        },
        "id": "8laOiHEx7Enr",
        "outputId": "627b5dce-71fd-4e98-b78d-5490fb88d4b7"
      },
      "source": [
        "#無視欄名稱和列index，查詢單一值\n",
        "spending_df.iloc[0,2]"
      ],
      "execution_count": 19,
      "outputs": [
        {
          "output_type": "execute_result",
          "data": {
            "text/plain": [
              "1000"
            ]
          },
          "metadata": {
            "tags": []
          },
          "execution_count": 19
        }
      ]
    },
    {
      "cell_type": "code",
      "metadata": {
        "colab": {
          "base_uri": "https://localhost:8080/",
          "height": 141
        },
        "id": "Nfu0HBPc7-8q",
        "outputId": "3b23ff16-b33e-4393-bb11-bce29913a98c"
      },
      "source": [
        "#宣告一個新的df\n",
        "earning_df = pd.DataFrame({\n",
        "        '110年薪資收入':[21000, 21000, 22000],\n",
        "        '110年股票收入':[1000, 0 ,200]\n",
        "        })\n",
        "earning_df\n",
        "      "
      ],
      "execution_count": 21,
      "outputs": [
        {
          "output_type": "execute_result",
          "data": {
            "text/html": [
              "<div>\n",
              "<style scoped>\n",
              "    .dataframe tbody tr th:only-of-type {\n",
              "        vertical-align: middle;\n",
              "    }\n",
              "\n",
              "    .dataframe tbody tr th {\n",
              "        vertical-align: top;\n",
              "    }\n",
              "\n",
              "    .dataframe thead th {\n",
              "        text-align: right;\n",
              "    }\n",
              "</style>\n",
              "<table border=\"1\" class=\"dataframe\">\n",
              "  <thead>\n",
              "    <tr style=\"text-align: right;\">\n",
              "      <th></th>\n",
              "      <th>110年薪資收入</th>\n",
              "      <th>110年股票收入</th>\n",
              "    </tr>\n",
              "  </thead>\n",
              "  <tbody>\n",
              "    <tr>\n",
              "      <th>0</th>\n",
              "      <td>21000</td>\n",
              "      <td>1000</td>\n",
              "    </tr>\n",
              "    <tr>\n",
              "      <th>1</th>\n",
              "      <td>21000</td>\n",
              "      <td>0</td>\n",
              "    </tr>\n",
              "    <tr>\n",
              "      <th>2</th>\n",
              "      <td>22000</td>\n",
              "      <td>200</td>\n",
              "    </tr>\n",
              "  </tbody>\n",
              "</table>\n",
              "</div>"
            ],
            "text/plain": [
              "   110年薪資收入  110年股票收入\n",
              "0     21000      1000\n",
              "1     21000         0\n",
              "2     22000       200"
            ]
          },
          "metadata": {
            "tags": []
          },
          "execution_count": 21
        }
      ]
    },
    {
      "cell_type": "code",
      "metadata": {
        "colab": {
          "base_uri": "https://localhost:8080/",
          "height": 110
        },
        "id": "n5kGyUklDeO7",
        "outputId": "1a465e5f-cd2c-4a2a-f802-91a7bf89e6aa"
      },
      "source": [
        "#宣告一個新的df\n",
        "spending45_df = pd.DataFrame({\n",
        "        '110年生活費':[9000, 8000],\n",
        "        '110年娛樂費':[5000, 1200],\n",
        "        '110年交通費':[1000, 0],\n",
        "        '110年住宿費':[8000, 8000]\n",
        "        })\n",
        "spending45_df"
      ],
      "execution_count": 29,
      "outputs": [
        {
          "output_type": "execute_result",
          "data": {
            "text/html": [
              "<div>\n",
              "<style scoped>\n",
              "    .dataframe tbody tr th:only-of-type {\n",
              "        vertical-align: middle;\n",
              "    }\n",
              "\n",
              "    .dataframe tbody tr th {\n",
              "        vertical-align: top;\n",
              "    }\n",
              "\n",
              "    .dataframe thead th {\n",
              "        text-align: right;\n",
              "    }\n",
              "</style>\n",
              "<table border=\"1\" class=\"dataframe\">\n",
              "  <thead>\n",
              "    <tr style=\"text-align: right;\">\n",
              "      <th></th>\n",
              "      <th>110年生活費</th>\n",
              "      <th>110年娛樂費</th>\n",
              "      <th>110年交通費</th>\n",
              "      <th>110年住宿費</th>\n",
              "    </tr>\n",
              "  </thead>\n",
              "  <tbody>\n",
              "    <tr>\n",
              "      <th>0</th>\n",
              "      <td>9000</td>\n",
              "      <td>5000</td>\n",
              "      <td>1000</td>\n",
              "      <td>8000</td>\n",
              "    </tr>\n",
              "    <tr>\n",
              "      <th>1</th>\n",
              "      <td>8000</td>\n",
              "      <td>1200</td>\n",
              "      <td>0</td>\n",
              "      <td>8000</td>\n",
              "    </tr>\n",
              "  </tbody>\n",
              "</table>\n",
              "</div>"
            ],
            "text/plain": [
              "   110年生活費  110年娛樂費  110年交通費  110年住宿費\n",
              "0     9000     5000     1000     8000\n",
              "1     8000     1200        0     8000"
            ]
          },
          "metadata": {
            "tags": []
          },
          "execution_count": 29
        }
      ]
    },
    {
      "cell_type": "code",
      "metadata": {
        "colab": {
          "base_uri": "https://localhost:8080/",
          "height": 232
        },
        "id": "B8CSPQ2jAwLT",
        "outputId": "6ccb27f3-fea4-4884-e05e-5361cff374f5"
      },
      "source": [
        "#合併兩個df，合併方向為axis=1\n",
        "property_df = pd.concat([spending_df,earning_df],axis=1)\n",
        "property_df"
      ],
      "execution_count": 22,
      "outputs": [
        {
          "output_type": "execute_result",
          "data": {
            "text/html": [
              "<div>\n",
              "<style scoped>\n",
              "    .dataframe tbody tr th:only-of-type {\n",
              "        vertical-align: middle;\n",
              "    }\n",
              "\n",
              "    .dataframe tbody tr th {\n",
              "        vertical-align: top;\n",
              "    }\n",
              "\n",
              "    .dataframe thead th {\n",
              "        text-align: right;\n",
              "    }\n",
              "</style>\n",
              "<table border=\"1\" class=\"dataframe\">\n",
              "  <thead>\n",
              "    <tr style=\"text-align: right;\">\n",
              "      <th></th>\n",
              "      <th>110年生活費</th>\n",
              "      <th>110年娛樂費</th>\n",
              "      <th>110年交通費</th>\n",
              "      <th>110年住宿費</th>\n",
              "      <th>110年薪資收入</th>\n",
              "      <th>110年股票收入</th>\n",
              "    </tr>\n",
              "  </thead>\n",
              "  <tbody>\n",
              "    <tr>\n",
              "      <th>0</th>\n",
              "      <td>NaN</td>\n",
              "      <td>NaN</td>\n",
              "      <td>NaN</td>\n",
              "      <td>NaN</td>\n",
              "      <td>21000.0</td>\n",
              "      <td>1000.0</td>\n",
              "    </tr>\n",
              "    <tr>\n",
              "      <th>1</th>\n",
              "      <td>NaN</td>\n",
              "      <td>NaN</td>\n",
              "      <td>NaN</td>\n",
              "      <td>NaN</td>\n",
              "      <td>21000.0</td>\n",
              "      <td>0.0</td>\n",
              "    </tr>\n",
              "    <tr>\n",
              "      <th>2</th>\n",
              "      <td>NaN</td>\n",
              "      <td>NaN</td>\n",
              "      <td>NaN</td>\n",
              "      <td>NaN</td>\n",
              "      <td>22000.0</td>\n",
              "      <td>200.0</td>\n",
              "    </tr>\n",
              "    <tr>\n",
              "      <th>一月</th>\n",
              "      <td>8000.0</td>\n",
              "      <td>3000.0</td>\n",
              "      <td>1000.0</td>\n",
              "      <td>8000.0</td>\n",
              "      <td>NaN</td>\n",
              "      <td>NaN</td>\n",
              "    </tr>\n",
              "    <tr>\n",
              "      <th>三月</th>\n",
              "      <td>7500.0</td>\n",
              "      <td>4000.0</td>\n",
              "      <td>1200.0</td>\n",
              "      <td>8000.0</td>\n",
              "      <td>NaN</td>\n",
              "      <td>NaN</td>\n",
              "    </tr>\n",
              "    <tr>\n",
              "      <th>二月</th>\n",
              "      <td>7000.0</td>\n",
              "      <td>5000.0</td>\n",
              "      <td>1200.0</td>\n",
              "      <td>8000.0</td>\n",
              "      <td>NaN</td>\n",
              "      <td>NaN</td>\n",
              "    </tr>\n",
              "  </tbody>\n",
              "</table>\n",
              "</div>"
            ],
            "text/plain": [
              "    110年生活費  110年娛樂費  110年交通費  110年住宿費  110年薪資收入  110年股票收入\n",
              "0       NaN      NaN      NaN      NaN   21000.0    1000.0\n",
              "1       NaN      NaN      NaN      NaN   21000.0       0.0\n",
              "2       NaN      NaN      NaN      NaN   22000.0     200.0\n",
              "一月   8000.0   3000.0   1000.0   8000.0       NaN       NaN\n",
              "三月   7500.0   4000.0   1200.0   8000.0       NaN       NaN\n",
              "二月   7000.0   5000.0   1200.0   8000.0       NaN       NaN"
            ]
          },
          "metadata": {
            "tags": []
          },
          "execution_count": 22
        }
      ]
    },
    {
      "cell_type": "code",
      "metadata": {
        "colab": {
          "base_uri": "https://localhost:8080/",
          "height": 202
        },
        "id": "7m0wwO-PDXNd",
        "outputId": "b74d8665-6881-448d-ce00-11c56bd1a4c3"
      },
      "source": [
        "#合併兩個df，合併方向為axis=0\n",
        "property_df = pd.concat([spending_df,spending45_df],axis=0)\n",
        "property_df"
      ],
      "execution_count": 30,
      "outputs": [
        {
          "output_type": "execute_result",
          "data": {
            "text/html": [
              "<div>\n",
              "<style scoped>\n",
              "    .dataframe tbody tr th:only-of-type {\n",
              "        vertical-align: middle;\n",
              "    }\n",
              "\n",
              "    .dataframe tbody tr th {\n",
              "        vertical-align: top;\n",
              "    }\n",
              "\n",
              "    .dataframe thead th {\n",
              "        text-align: right;\n",
              "    }\n",
              "</style>\n",
              "<table border=\"1\" class=\"dataframe\">\n",
              "  <thead>\n",
              "    <tr style=\"text-align: right;\">\n",
              "      <th></th>\n",
              "      <th>110年生活費</th>\n",
              "      <th>110年娛樂費</th>\n",
              "      <th>110年交通費</th>\n",
              "      <th>110年住宿費</th>\n",
              "    </tr>\n",
              "  </thead>\n",
              "  <tbody>\n",
              "    <tr>\n",
              "      <th>一月</th>\n",
              "      <td>8000</td>\n",
              "      <td>3000</td>\n",
              "      <td>1000</td>\n",
              "      <td>8000</td>\n",
              "    </tr>\n",
              "    <tr>\n",
              "      <th>二月</th>\n",
              "      <td>7000</td>\n",
              "      <td>5000</td>\n",
              "      <td>1200</td>\n",
              "      <td>8000</td>\n",
              "    </tr>\n",
              "    <tr>\n",
              "      <th>三月</th>\n",
              "      <td>7500</td>\n",
              "      <td>4000</td>\n",
              "      <td>1200</td>\n",
              "      <td>8000</td>\n",
              "    </tr>\n",
              "    <tr>\n",
              "      <th>0</th>\n",
              "      <td>9000</td>\n",
              "      <td>5000</td>\n",
              "      <td>1000</td>\n",
              "      <td>8000</td>\n",
              "    </tr>\n",
              "    <tr>\n",
              "      <th>1</th>\n",
              "      <td>8000</td>\n",
              "      <td>1200</td>\n",
              "      <td>0</td>\n",
              "      <td>8000</td>\n",
              "    </tr>\n",
              "  </tbody>\n",
              "</table>\n",
              "</div>"
            ],
            "text/plain": [
              "    110年生活費  110年娛樂費  110年交通費  110年住宿費\n",
              "一月     8000     3000     1000     8000\n",
              "二月     7000     5000     1200     8000\n",
              "三月     7500     4000     1200     8000\n",
              "0      9000     5000     1000     8000\n",
              "1      8000     1200        0     8000"
            ]
          },
          "metadata": {
            "tags": []
          },
          "execution_count": 30
        }
      ]
    },
    {
      "cell_type": "code",
      "metadata": {
        "colab": {
          "base_uri": "https://localhost:8080/",
          "height": 202
        },
        "id": "QOsc8bBRExpJ",
        "outputId": "edc6e88b-3fdf-4d81-e952-504d411eb4d7"
      },
      "source": [
        "#合併兩個df，合併方向為axis=0，忽略兩個df的index\n",
        "property_df = pd.concat([spending_df,spending45_df],axis=0, ignore_index=True)\n",
        "property_df"
      ],
      "execution_count": 31,
      "outputs": [
        {
          "output_type": "execute_result",
          "data": {
            "text/html": [
              "<div>\n",
              "<style scoped>\n",
              "    .dataframe tbody tr th:only-of-type {\n",
              "        vertical-align: middle;\n",
              "    }\n",
              "\n",
              "    .dataframe tbody tr th {\n",
              "        vertical-align: top;\n",
              "    }\n",
              "\n",
              "    .dataframe thead th {\n",
              "        text-align: right;\n",
              "    }\n",
              "</style>\n",
              "<table border=\"1\" class=\"dataframe\">\n",
              "  <thead>\n",
              "    <tr style=\"text-align: right;\">\n",
              "      <th></th>\n",
              "      <th>110年生活費</th>\n",
              "      <th>110年娛樂費</th>\n",
              "      <th>110年交通費</th>\n",
              "      <th>110年住宿費</th>\n",
              "    </tr>\n",
              "  </thead>\n",
              "  <tbody>\n",
              "    <tr>\n",
              "      <th>0</th>\n",
              "      <td>8000</td>\n",
              "      <td>3000</td>\n",
              "      <td>1000</td>\n",
              "      <td>8000</td>\n",
              "    </tr>\n",
              "    <tr>\n",
              "      <th>1</th>\n",
              "      <td>7000</td>\n",
              "      <td>5000</td>\n",
              "      <td>1200</td>\n",
              "      <td>8000</td>\n",
              "    </tr>\n",
              "    <tr>\n",
              "      <th>2</th>\n",
              "      <td>7500</td>\n",
              "      <td>4000</td>\n",
              "      <td>1200</td>\n",
              "      <td>8000</td>\n",
              "    </tr>\n",
              "    <tr>\n",
              "      <th>3</th>\n",
              "      <td>9000</td>\n",
              "      <td>5000</td>\n",
              "      <td>1000</td>\n",
              "      <td>8000</td>\n",
              "    </tr>\n",
              "    <tr>\n",
              "      <th>4</th>\n",
              "      <td>8000</td>\n",
              "      <td>1200</td>\n",
              "      <td>0</td>\n",
              "      <td>8000</td>\n",
              "    </tr>\n",
              "  </tbody>\n",
              "</table>\n",
              "</div>"
            ],
            "text/plain": [
              "   110年生活費  110年娛樂費  110年交通費  110年住宿費\n",
              "0     8000     3000     1000     8000\n",
              "1     7000     5000     1200     8000\n",
              "2     7500     4000     1200     8000\n",
              "3     9000     5000     1000     8000\n",
              "4     8000     1200        0     8000"
            ]
          },
          "metadata": {
            "tags": []
          },
          "execution_count": 31
        }
      ]
    },
    {
      "cell_type": "code",
      "metadata": {
        "colab": {
          "base_uri": "https://localhost:8080/",
          "height": 78
        },
        "id": "q2wOrFBQTfwo",
        "outputId": "07f1b2b2-2bcb-4a2a-d36a-362552a10666"
      },
      "source": [
        "#使用遮罩(mask)查詢\n",
        "mask1 = spending_df['110年生活費'] == 7000\n",
        "spending_df[mask1]"
      ],
      "execution_count": 10,
      "outputs": [
        {
          "output_type": "execute_result",
          "data": {
            "text/html": [
              "<div>\n",
              "<style scoped>\n",
              "    .dataframe tbody tr th:only-of-type {\n",
              "        vertical-align: middle;\n",
              "    }\n",
              "\n",
              "    .dataframe tbody tr th {\n",
              "        vertical-align: top;\n",
              "    }\n",
              "\n",
              "    .dataframe thead th {\n",
              "        text-align: right;\n",
              "    }\n",
              "</style>\n",
              "<table border=\"1\" class=\"dataframe\">\n",
              "  <thead>\n",
              "    <tr style=\"text-align: right;\">\n",
              "      <th></th>\n",
              "      <th>110年生活費</th>\n",
              "      <th>110年娛樂費</th>\n",
              "      <th>110年交通費</th>\n",
              "      <th>110年住宿費</th>\n",
              "    </tr>\n",
              "  </thead>\n",
              "  <tbody>\n",
              "    <tr>\n",
              "      <th>二月</th>\n",
              "      <td>7000</td>\n",
              "      <td>5000</td>\n",
              "      <td>1200</td>\n",
              "      <td>8000</td>\n",
              "    </tr>\n",
              "  </tbody>\n",
              "</table>\n",
              "</div>"
            ],
            "text/plain": [
              "    110年生活費  110年娛樂費  110年交通費  110年住宿費\n",
              "二月     7000     5000     1200     8000"
            ]
          },
          "metadata": {
            "tags": []
          },
          "execution_count": 10
        }
      ]
    },
    {
      "cell_type": "code",
      "metadata": {
        "colab": {
          "base_uri": "https://localhost:8080/",
          "height": 110
        },
        "id": "wiWD3-YzsgfZ",
        "outputId": "9bd043d0-027e-4627-a738-ff15df235e6a"
      },
      "source": [
        "#使用遮罩(mask)查詢\n",
        "mask2 = spending_df['110年交通費'] > 1000\n",
        "spending_df[mask2]"
      ],
      "execution_count": 9,
      "outputs": [
        {
          "output_type": "execute_result",
          "data": {
            "text/html": [
              "<div>\n",
              "<style scoped>\n",
              "    .dataframe tbody tr th:only-of-type {\n",
              "        vertical-align: middle;\n",
              "    }\n",
              "\n",
              "    .dataframe tbody tr th {\n",
              "        vertical-align: top;\n",
              "    }\n",
              "\n",
              "    .dataframe thead th {\n",
              "        text-align: right;\n",
              "    }\n",
              "</style>\n",
              "<table border=\"1\" class=\"dataframe\">\n",
              "  <thead>\n",
              "    <tr style=\"text-align: right;\">\n",
              "      <th></th>\n",
              "      <th>110年生活費</th>\n",
              "      <th>110年娛樂費</th>\n",
              "      <th>110年交通費</th>\n",
              "      <th>110年住宿費</th>\n",
              "    </tr>\n",
              "  </thead>\n",
              "  <tbody>\n",
              "    <tr>\n",
              "      <th>二月</th>\n",
              "      <td>7000</td>\n",
              "      <td>5000</td>\n",
              "      <td>1200</td>\n",
              "      <td>8000</td>\n",
              "    </tr>\n",
              "    <tr>\n",
              "      <th>三月</th>\n",
              "      <td>7500</td>\n",
              "      <td>4000</td>\n",
              "      <td>1200</td>\n",
              "      <td>8000</td>\n",
              "    </tr>\n",
              "  </tbody>\n",
              "</table>\n",
              "</div>"
            ],
            "text/plain": [
              "    110年生活費  110年娛樂費  110年交通費  110年住宿費\n",
              "二月     7000     5000     1200     8000\n",
              "三月     7500     4000     1200     8000"
            ]
          },
          "metadata": {
            "tags": []
          },
          "execution_count": 9
        }
      ]
    },
    {
      "cell_type": "code",
      "metadata": {
        "colab": {
          "base_uri": "https://localhost:8080/",
          "height": 78
        },
        "id": "hl8OW-OgzKlu",
        "outputId": "cee0bad4-6e1e-4d3f-d946-01bcac171b92"
      },
      "source": [
        "#使用遮罩(mask)查詢，包含兩個條件，需兩個條件都成立\n",
        "#方法一\n",
        "spending_df[(mask1 & mask2)]"
      ],
      "execution_count": 11,
      "outputs": [
        {
          "output_type": "execute_result",
          "data": {
            "text/html": [
              "<div>\n",
              "<style scoped>\n",
              "    .dataframe tbody tr th:only-of-type {\n",
              "        vertical-align: middle;\n",
              "    }\n",
              "\n",
              "    .dataframe tbody tr th {\n",
              "        vertical-align: top;\n",
              "    }\n",
              "\n",
              "    .dataframe thead th {\n",
              "        text-align: right;\n",
              "    }\n",
              "</style>\n",
              "<table border=\"1\" class=\"dataframe\">\n",
              "  <thead>\n",
              "    <tr style=\"text-align: right;\">\n",
              "      <th></th>\n",
              "      <th>110年生活費</th>\n",
              "      <th>110年娛樂費</th>\n",
              "      <th>110年交通費</th>\n",
              "      <th>110年住宿費</th>\n",
              "    </tr>\n",
              "  </thead>\n",
              "  <tbody>\n",
              "    <tr>\n",
              "      <th>二月</th>\n",
              "      <td>7000</td>\n",
              "      <td>5000</td>\n",
              "      <td>1200</td>\n",
              "      <td>8000</td>\n",
              "    </tr>\n",
              "  </tbody>\n",
              "</table>\n",
              "</div>"
            ],
            "text/plain": [
              "    110年生活費  110年娛樂費  110年交通費  110年住宿費\n",
              "二月     7000     5000     1200     8000"
            ]
          },
          "metadata": {
            "tags": []
          },
          "execution_count": 11
        }
      ]
    },
    {
      "cell_type": "code",
      "metadata": {
        "colab": {
          "base_uri": "https://localhost:8080/",
          "height": 78
        },
        "id": "F4e5AgOpzNd1",
        "outputId": "3c7948b4-fd86-40b0-f6fe-73241cc7e73e"
      },
      "source": [
        "#使用遮罩(mask)查詢，包含兩個條件，需兩個條件都成立\n",
        "#方法二\n",
        "spending_df[(spending_df['110年生活費'] == 7000) & (spending_df['110年交通費'] > 1000)]"
      ],
      "execution_count": 12,
      "outputs": [
        {
          "output_type": "execute_result",
          "data": {
            "text/html": [
              "<div>\n",
              "<style scoped>\n",
              "    .dataframe tbody tr th:only-of-type {\n",
              "        vertical-align: middle;\n",
              "    }\n",
              "\n",
              "    .dataframe tbody tr th {\n",
              "        vertical-align: top;\n",
              "    }\n",
              "\n",
              "    .dataframe thead th {\n",
              "        text-align: right;\n",
              "    }\n",
              "</style>\n",
              "<table border=\"1\" class=\"dataframe\">\n",
              "  <thead>\n",
              "    <tr style=\"text-align: right;\">\n",
              "      <th></th>\n",
              "      <th>110年生活費</th>\n",
              "      <th>110年娛樂費</th>\n",
              "      <th>110年交通費</th>\n",
              "      <th>110年住宿費</th>\n",
              "    </tr>\n",
              "  </thead>\n",
              "  <tbody>\n",
              "    <tr>\n",
              "      <th>二月</th>\n",
              "      <td>7000</td>\n",
              "      <td>5000</td>\n",
              "      <td>1200</td>\n",
              "      <td>8000</td>\n",
              "    </tr>\n",
              "  </tbody>\n",
              "</table>\n",
              "</div>"
            ],
            "text/plain": [
              "    110年生活費  110年娛樂費  110年交通費  110年住宿費\n",
              "二月     7000     5000     1200     8000"
            ]
          },
          "metadata": {
            "tags": []
          },
          "execution_count": 12
        }
      ]
    },
    {
      "cell_type": "code",
      "metadata": {
        "colab": {
          "base_uri": "https://localhost:8080/",
          "height": 110
        },
        "id": "6h0K18CIzRNP",
        "outputId": "5ca2ef53-2358-4b93-c134-b22a2fa3ddd4"
      },
      "source": [
        "#使用遮罩(mask)查詢，包含兩個條件，有其中一個條件真則判斷為真\n",
        "spending_df[(mask1 | mask2)]"
      ],
      "execution_count": 13,
      "outputs": [
        {
          "output_type": "execute_result",
          "data": {
            "text/html": [
              "<div>\n",
              "<style scoped>\n",
              "    .dataframe tbody tr th:only-of-type {\n",
              "        vertical-align: middle;\n",
              "    }\n",
              "\n",
              "    .dataframe tbody tr th {\n",
              "        vertical-align: top;\n",
              "    }\n",
              "\n",
              "    .dataframe thead th {\n",
              "        text-align: right;\n",
              "    }\n",
              "</style>\n",
              "<table border=\"1\" class=\"dataframe\">\n",
              "  <thead>\n",
              "    <tr style=\"text-align: right;\">\n",
              "      <th></th>\n",
              "      <th>110年生活費</th>\n",
              "      <th>110年娛樂費</th>\n",
              "      <th>110年交通費</th>\n",
              "      <th>110年住宿費</th>\n",
              "    </tr>\n",
              "  </thead>\n",
              "  <tbody>\n",
              "    <tr>\n",
              "      <th>二月</th>\n",
              "      <td>7000</td>\n",
              "      <td>5000</td>\n",
              "      <td>1200</td>\n",
              "      <td>8000</td>\n",
              "    </tr>\n",
              "    <tr>\n",
              "      <th>三月</th>\n",
              "      <td>7500</td>\n",
              "      <td>4000</td>\n",
              "      <td>1200</td>\n",
              "      <td>8000</td>\n",
              "    </tr>\n",
              "  </tbody>\n",
              "</table>\n",
              "</div>"
            ],
            "text/plain": [
              "    110年生活費  110年娛樂費  110年交通費  110年住宿費\n",
              "二月     7000     5000     1200     8000\n",
              "三月     7500     4000     1200     8000"
            ]
          },
          "metadata": {
            "tags": []
          },
          "execution_count": 13
        }
      ]
    }
  ]
}