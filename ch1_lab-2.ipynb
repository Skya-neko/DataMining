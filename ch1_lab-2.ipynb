{
  "nbformat": 4,
  "nbformat_minor": 0,
  "metadata": {
    "colab": {
      "name": "ch1-lab-2.ipynb",
      "provenance": []
    },
    "kernelspec": {
      "name": "python3",
      "display_name": "Python 3"
    },
    "language_info": {
      "name": "python"
    }
  },
  "cells": [
    {
      "cell_type": "code",
      "metadata": {
        "colab": {
          "base_uri": "https://localhost:8080/"
        },
        "id": "wk8MJIkoAR8B",
        "outputId": "d5b2761f-050a-414b-fe11-2ea7613d5771"
      },
      "source": [
        "eng = int(input())\n",
        "math = int(input())\n",
        "if ( eng and math ) >= 60 :\n",
        "  print('因為英文得{}分和數學得{}分所以去吃海底撈'.format(eng, math))\n",
        "\n",
        "elif ( eng or math ) >= 60 :\n",
        "  print('因為英文得{}分和數學得{}分所以吃肯德基'.format(eng, math))\n",
        "\n",
        "else:\n",
        "  print('因為英文得{}分和數學得{}分所以去罰站'.format(eng, math))\n"
      ],
      "execution_count": 4,
      "outputs": [
        {
          "output_type": "stream",
          "text": [
            "50\n",
            "60\n",
            "因為英文得50分和數學得60分所以去吃海底撈\n"
          ],
          "name": "stdout"
        }
      ]
    }
  ]
}